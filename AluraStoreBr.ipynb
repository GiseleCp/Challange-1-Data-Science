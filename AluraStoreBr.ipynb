{
  "nbformat": 4,
  "nbformat_minor": 0,
  "metadata": {
    "colab": {
      "provenance": [],
      "collapsed_sections": [
        "RhEdWd9YUR6H",
        "X62IW3KFUIYm",
        "RspgjqaHnDz7",
        "fErRnV8bnK-w",
        "IVLkzVKM1luV",
        "2V_vcAPzWZmR",
        "-Wgfw7Abms6X",
        "pCATur5zmTyU",
        "o_6GFGNo186d",
        "Rq6tU_xSY3jk",
        "nz_y76WBw_Ia",
        "Q5on-lPKxCV7",
        "DmNp1KPBZCm-",
        "KKdjj1eRxwNA",
        "IguaX-uSx1F3",
        "haNtrgiQ5C8H",
        "Fl0cGi3bZKqU",
        "KL0bSsmyx34E",
        "xPA-N8_A9FSI",
        "FKDFD6yR9LOf",
        "0Sqv1_jz_jS3",
        "t-70QLcYDQkK",
        "39EriBZEDc_l",
        "zucBk2IaDqUX"
      ]
    },
    "kernelspec": {
      "name": "python3",
      "display_name": "Python 3"
    },
    "language_info": {
      "name": "python"
    }
  },
  "cells": [
    {
      "cell_type": "markdown",
      "source": [
        "### Importação dos dados\n",
        "\n"
      ],
      "metadata": {
        "id": "RhEdWd9YUR6H"
      }
    },
    {
      "cell_type": "code",
      "execution_count": 49,
      "metadata": {
        "colab": {
          "base_uri": "https://localhost:8080/",
          "height": 206
        },
        "id": "T3EvaeQ_INIL",
        "outputId": "75863ed2-c653-4aaa-c651-310592ccf363"
      },
      "outputs": [
        {
          "output_type": "execute_result",
          "data": {
            "text/plain": [
              "                 Produto Categoria do Produto    Preço      Frete  \\\n",
              "0     Assistente virtual          eletronicos   219.08   9.249790   \n",
              "1         Mesa de jantar               moveis   256.35  11.234305   \n",
              "2      Jogo de tabuleiro           brinquedos   279.51  21.262681   \n",
              "3            Micro-ondas     eletrodomesticos  1009.99  54.667344   \n",
              "4  Cadeira de escritório               moveis   446.99  26.964689   \n",
              "\n",
              "  Data da Compra        Vendedor Local da compra  Avaliação da compra  \\\n",
              "0     16/01/2021     Pedro Gomes              SP                    4   \n",
              "1     18/05/2022  Beatriz Moraes              RJ                    1   \n",
              "2     15/03/2021      João Souza              DF                    1   \n",
              "3     03/05/2022      João Souza              RS                    4   \n",
              "4     07/11/2020   Larissa Alves              MG                    5   \n",
              "\n",
              "  Tipo de pagamento  Quantidade de parcelas    lat    lon  \n",
              "0    cartao_credito                       8 -22.19 -48.79  \n",
              "1    cartao_credito                       4 -22.25 -42.66  \n",
              "2    cartao_credito                       1 -15.83 -47.86  \n",
              "3            boleto                       1 -30.17 -53.50  \n",
              "4            boleto                       1 -18.10 -44.38  "
            ],
            "text/html": [
              "\n",
              "  <div id=\"df-6a4ddc5e-ef71-457c-b4e3-c7702677f83c\" class=\"colab-df-container\">\n",
              "    <div>\n",
              "<style scoped>\n",
              "    .dataframe tbody tr th:only-of-type {\n",
              "        vertical-align: middle;\n",
              "    }\n",
              "\n",
              "    .dataframe tbody tr th {\n",
              "        vertical-align: top;\n",
              "    }\n",
              "\n",
              "    .dataframe thead th {\n",
              "        text-align: right;\n",
              "    }\n",
              "</style>\n",
              "<table border=\"1\" class=\"dataframe\">\n",
              "  <thead>\n",
              "    <tr style=\"text-align: right;\">\n",
              "      <th></th>\n",
              "      <th>Produto</th>\n",
              "      <th>Categoria do Produto</th>\n",
              "      <th>Preço</th>\n",
              "      <th>Frete</th>\n",
              "      <th>Data da Compra</th>\n",
              "      <th>Vendedor</th>\n",
              "      <th>Local da compra</th>\n",
              "      <th>Avaliação da compra</th>\n",
              "      <th>Tipo de pagamento</th>\n",
              "      <th>Quantidade de parcelas</th>\n",
              "      <th>lat</th>\n",
              "      <th>lon</th>\n",
              "    </tr>\n",
              "  </thead>\n",
              "  <tbody>\n",
              "    <tr>\n",
              "      <th>0</th>\n",
              "      <td>Assistente virtual</td>\n",
              "      <td>eletronicos</td>\n",
              "      <td>219.08</td>\n",
              "      <td>9.249790</td>\n",
              "      <td>16/01/2021</td>\n",
              "      <td>Pedro Gomes</td>\n",
              "      <td>SP</td>\n",
              "      <td>4</td>\n",
              "      <td>cartao_credito</td>\n",
              "      <td>8</td>\n",
              "      <td>-22.19</td>\n",
              "      <td>-48.79</td>\n",
              "    </tr>\n",
              "    <tr>\n",
              "      <th>1</th>\n",
              "      <td>Mesa de jantar</td>\n",
              "      <td>moveis</td>\n",
              "      <td>256.35</td>\n",
              "      <td>11.234305</td>\n",
              "      <td>18/05/2022</td>\n",
              "      <td>Beatriz Moraes</td>\n",
              "      <td>RJ</td>\n",
              "      <td>1</td>\n",
              "      <td>cartao_credito</td>\n",
              "      <td>4</td>\n",
              "      <td>-22.25</td>\n",
              "      <td>-42.66</td>\n",
              "    </tr>\n",
              "    <tr>\n",
              "      <th>2</th>\n",
              "      <td>Jogo de tabuleiro</td>\n",
              "      <td>brinquedos</td>\n",
              "      <td>279.51</td>\n",
              "      <td>21.262681</td>\n",
              "      <td>15/03/2021</td>\n",
              "      <td>João Souza</td>\n",
              "      <td>DF</td>\n",
              "      <td>1</td>\n",
              "      <td>cartao_credito</td>\n",
              "      <td>1</td>\n",
              "      <td>-15.83</td>\n",
              "      <td>-47.86</td>\n",
              "    </tr>\n",
              "    <tr>\n",
              "      <th>3</th>\n",
              "      <td>Micro-ondas</td>\n",
              "      <td>eletrodomesticos</td>\n",
              "      <td>1009.99</td>\n",
              "      <td>54.667344</td>\n",
              "      <td>03/05/2022</td>\n",
              "      <td>João Souza</td>\n",
              "      <td>RS</td>\n",
              "      <td>4</td>\n",
              "      <td>boleto</td>\n",
              "      <td>1</td>\n",
              "      <td>-30.17</td>\n",
              "      <td>-53.50</td>\n",
              "    </tr>\n",
              "    <tr>\n",
              "      <th>4</th>\n",
              "      <td>Cadeira de escritório</td>\n",
              "      <td>moveis</td>\n",
              "      <td>446.99</td>\n",
              "      <td>26.964689</td>\n",
              "      <td>07/11/2020</td>\n",
              "      <td>Larissa Alves</td>\n",
              "      <td>MG</td>\n",
              "      <td>5</td>\n",
              "      <td>boleto</td>\n",
              "      <td>1</td>\n",
              "      <td>-18.10</td>\n",
              "      <td>-44.38</td>\n",
              "    </tr>\n",
              "  </tbody>\n",
              "</table>\n",
              "</div>\n",
              "    <div class=\"colab-df-buttons\">\n",
              "\n",
              "  <div class=\"colab-df-container\">\n",
              "    <button class=\"colab-df-convert\" onclick=\"convertToInteractive('df-6a4ddc5e-ef71-457c-b4e3-c7702677f83c')\"\n",
              "            title=\"Convert this dataframe to an interactive table.\"\n",
              "            style=\"display:none;\">\n",
              "\n",
              "  <svg xmlns=\"http://www.w3.org/2000/svg\" height=\"24px\" viewBox=\"0 -960 960 960\">\n",
              "    <path d=\"M120-120v-720h720v720H120Zm60-500h600v-160H180v160Zm220 220h160v-160H400v160Zm0 220h160v-160H400v160ZM180-400h160v-160H180v160Zm440 0h160v-160H620v160ZM180-180h160v-160H180v160Zm440 0h160v-160H620v160Z\"/>\n",
              "  </svg>\n",
              "    </button>\n",
              "\n",
              "  <style>\n",
              "    .colab-df-container {\n",
              "      display:flex;\n",
              "      gap: 12px;\n",
              "    }\n",
              "\n",
              "    .colab-df-convert {\n",
              "      background-color: #E8F0FE;\n",
              "      border: none;\n",
              "      border-radius: 50%;\n",
              "      cursor: pointer;\n",
              "      display: none;\n",
              "      fill: #1967D2;\n",
              "      height: 32px;\n",
              "      padding: 0 0 0 0;\n",
              "      width: 32px;\n",
              "    }\n",
              "\n",
              "    .colab-df-convert:hover {\n",
              "      background-color: #E2EBFA;\n",
              "      box-shadow: 0px 1px 2px rgba(60, 64, 67, 0.3), 0px 1px 3px 1px rgba(60, 64, 67, 0.15);\n",
              "      fill: #174EA6;\n",
              "    }\n",
              "\n",
              "    .colab-df-buttons div {\n",
              "      margin-bottom: 4px;\n",
              "    }\n",
              "\n",
              "    [theme=dark] .colab-df-convert {\n",
              "      background-color: #3B4455;\n",
              "      fill: #D2E3FC;\n",
              "    }\n",
              "\n",
              "    [theme=dark] .colab-df-convert:hover {\n",
              "      background-color: #434B5C;\n",
              "      box-shadow: 0px 1px 3px 1px rgba(0, 0, 0, 0.15);\n",
              "      filter: drop-shadow(0px 1px 2px rgba(0, 0, 0, 0.3));\n",
              "      fill: #FFFFFF;\n",
              "    }\n",
              "  </style>\n",
              "\n",
              "    <script>\n",
              "      const buttonEl =\n",
              "        document.querySelector('#df-6a4ddc5e-ef71-457c-b4e3-c7702677f83c button.colab-df-convert');\n",
              "      buttonEl.style.display =\n",
              "        google.colab.kernel.accessAllowed ? 'block' : 'none';\n",
              "\n",
              "      async function convertToInteractive(key) {\n",
              "        const element = document.querySelector('#df-6a4ddc5e-ef71-457c-b4e3-c7702677f83c');\n",
              "        const dataTable =\n",
              "          await google.colab.kernel.invokeFunction('convertToInteractive',\n",
              "                                                    [key], {});\n",
              "        if (!dataTable) return;\n",
              "\n",
              "        const docLinkHtml = 'Like what you see? Visit the ' +\n",
              "          '<a target=\"_blank\" href=https://colab.research.google.com/notebooks/data_table.ipynb>data table notebook</a>'\n",
              "          + ' to learn more about interactive tables.';\n",
              "        element.innerHTML = '';\n",
              "        dataTable['output_type'] = 'display_data';\n",
              "        await google.colab.output.renderOutput(dataTable, element);\n",
              "        const docLink = document.createElement('div');\n",
              "        docLink.innerHTML = docLinkHtml;\n",
              "        element.appendChild(docLink);\n",
              "      }\n",
              "    </script>\n",
              "  </div>\n",
              "\n",
              "\n",
              "<div id=\"df-47dcdabb-d13d-4a4e-9113-409eb055e39b\">\n",
              "  <button class=\"colab-df-quickchart\" onclick=\"quickchart('df-47dcdabb-d13d-4a4e-9113-409eb055e39b')\"\n",
              "            title=\"Suggest charts\"\n",
              "            style=\"display:none;\">\n",
              "\n",
              "<svg xmlns=\"http://www.w3.org/2000/svg\" height=\"24px\"viewBox=\"0 0 24 24\"\n",
              "     width=\"24px\">\n",
              "    <g>\n",
              "        <path d=\"M19 3H5c-1.1 0-2 .9-2 2v14c0 1.1.9 2 2 2h14c1.1 0 2-.9 2-2V5c0-1.1-.9-2-2-2zM9 17H7v-7h2v7zm4 0h-2V7h2v10zm4 0h-2v-4h2v4z\"/>\n",
              "    </g>\n",
              "</svg>\n",
              "  </button>\n",
              "\n",
              "<style>\n",
              "  .colab-df-quickchart {\n",
              "      --bg-color: #E8F0FE;\n",
              "      --fill-color: #1967D2;\n",
              "      --hover-bg-color: #E2EBFA;\n",
              "      --hover-fill-color: #174EA6;\n",
              "      --disabled-fill-color: #AAA;\n",
              "      --disabled-bg-color: #DDD;\n",
              "  }\n",
              "\n",
              "  [theme=dark] .colab-df-quickchart {\n",
              "      --bg-color: #3B4455;\n",
              "      --fill-color: #D2E3FC;\n",
              "      --hover-bg-color: #434B5C;\n",
              "      --hover-fill-color: #FFFFFF;\n",
              "      --disabled-bg-color: #3B4455;\n",
              "      --disabled-fill-color: #666;\n",
              "  }\n",
              "\n",
              "  .colab-df-quickchart {\n",
              "    background-color: var(--bg-color);\n",
              "    border: none;\n",
              "    border-radius: 50%;\n",
              "    cursor: pointer;\n",
              "    display: none;\n",
              "    fill: var(--fill-color);\n",
              "    height: 32px;\n",
              "    padding: 0;\n",
              "    width: 32px;\n",
              "  }\n",
              "\n",
              "  .colab-df-quickchart:hover {\n",
              "    background-color: var(--hover-bg-color);\n",
              "    box-shadow: 0 1px 2px rgba(60, 64, 67, 0.3), 0 1px 3px 1px rgba(60, 64, 67, 0.15);\n",
              "    fill: var(--button-hover-fill-color);\n",
              "  }\n",
              "\n",
              "  .colab-df-quickchart-complete:disabled,\n",
              "  .colab-df-quickchart-complete:disabled:hover {\n",
              "    background-color: var(--disabled-bg-color);\n",
              "    fill: var(--disabled-fill-color);\n",
              "    box-shadow: none;\n",
              "  }\n",
              "\n",
              "  .colab-df-spinner {\n",
              "    border: 2px solid var(--fill-color);\n",
              "    border-color: transparent;\n",
              "    border-bottom-color: var(--fill-color);\n",
              "    animation:\n",
              "      spin 1s steps(1) infinite;\n",
              "  }\n",
              "\n",
              "  @keyframes spin {\n",
              "    0% {\n",
              "      border-color: transparent;\n",
              "      border-bottom-color: var(--fill-color);\n",
              "      border-left-color: var(--fill-color);\n",
              "    }\n",
              "    20% {\n",
              "      border-color: transparent;\n",
              "      border-left-color: var(--fill-color);\n",
              "      border-top-color: var(--fill-color);\n",
              "    }\n",
              "    30% {\n",
              "      border-color: transparent;\n",
              "      border-left-color: var(--fill-color);\n",
              "      border-top-color: var(--fill-color);\n",
              "      border-right-color: var(--fill-color);\n",
              "    }\n",
              "    40% {\n",
              "      border-color: transparent;\n",
              "      border-right-color: var(--fill-color);\n",
              "      border-top-color: var(--fill-color);\n",
              "    }\n",
              "    60% {\n",
              "      border-color: transparent;\n",
              "      border-right-color: var(--fill-color);\n",
              "    }\n",
              "    80% {\n",
              "      border-color: transparent;\n",
              "      border-right-color: var(--fill-color);\n",
              "      border-bottom-color: var(--fill-color);\n",
              "    }\n",
              "    90% {\n",
              "      border-color: transparent;\n",
              "      border-bottom-color: var(--fill-color);\n",
              "    }\n",
              "  }\n",
              "</style>\n",
              "\n",
              "  <script>\n",
              "    async function quickchart(key) {\n",
              "      const quickchartButtonEl =\n",
              "        document.querySelector('#' + key + ' button');\n",
              "      quickchartButtonEl.disabled = true;  // To prevent multiple clicks.\n",
              "      quickchartButtonEl.classList.add('colab-df-spinner');\n",
              "      try {\n",
              "        const charts = await google.colab.kernel.invokeFunction(\n",
              "            'suggestCharts', [key], {});\n",
              "      } catch (error) {\n",
              "        console.error('Error during call to suggestCharts:', error);\n",
              "      }\n",
              "      quickchartButtonEl.classList.remove('colab-df-spinner');\n",
              "      quickchartButtonEl.classList.add('colab-df-quickchart-complete');\n",
              "    }\n",
              "    (() => {\n",
              "      let quickchartButtonEl =\n",
              "        document.querySelector('#df-47dcdabb-d13d-4a4e-9113-409eb055e39b button');\n",
              "      quickchartButtonEl.style.display =\n",
              "        google.colab.kernel.accessAllowed ? 'block' : 'none';\n",
              "    })();\n",
              "  </script>\n",
              "</div>\n",
              "\n",
              "    </div>\n",
              "  </div>\n"
            ],
            "application/vnd.google.colaboratory.intrinsic+json": {
              "type": "dataframe",
              "variable_name": "loja1",
              "summary": "{\n  \"name\": \"loja1\",\n  \"rows\": 2359,\n  \"fields\": [\n    {\n      \"column\": \"Produto\",\n      \"properties\": {\n        \"dtype\": \"category\",\n        \"num_unique_values\": 51,\n        \"samples\": [\n          \"Viol\\u00e3o\",\n          \"Bola de basquete\",\n          \"Smartwatch\"\n        ],\n        \"semantic_type\": \"\",\n        \"description\": \"\"\n      }\n    },\n    {\n      \"column\": \"Categoria do Produto\",\n      \"properties\": {\n        \"dtype\": \"category\",\n        \"num_unique_values\": 8,\n        \"samples\": [\n          \"moveis\",\n          \"esporte e lazer\",\n          \"eletronicos\"\n        ],\n        \"semantic_type\": \"\",\n        \"description\": \"\"\n      }\n    },\n    {\n      \"column\": \"Pre\\u00e7o\",\n      \"properties\": {\n        \"dtype\": \"number\",\n        \"std\": 819.5827782539145,\n        \"min\": 10.07,\n        \"max\": 3969.38,\n        \"num_unique_values\": 2315,\n        \"samples\": [\n          446.11,\n          107.31,\n          65.86\n        ],\n        \"semantic_type\": \"\",\n        \"description\": \"\"\n      }\n    },\n    {\n      \"column\": \"Frete\",\n      \"properties\": {\n        \"dtype\": \"number\",\n        \"std\": 43.814183327408166,\n        \"min\": 0.0,\n        \"max\": 214.3770604781,\n        \"num_unique_values\": 2149,\n        \"samples\": [\n          83.815279607,\n          16.069664669,\n          14.0344876928\n        ],\n        \"semantic_type\": \"\",\n        \"description\": \"\"\n      }\n    },\n    {\n      \"column\": \"Data da Compra\",\n      \"properties\": {\n        \"dtype\": \"object\",\n        \"num_unique_values\": 1018,\n        \"samples\": [\n          \"15/09/2022\",\n          \"03/06/2020\",\n          \"06/11/2021\"\n        ],\n        \"semantic_type\": \"\",\n        \"description\": \"\"\n      }\n    },\n    {\n      \"column\": \"Vendedor\",\n      \"properties\": {\n        \"dtype\": \"category\",\n        \"num_unique_values\": 14,\n        \"samples\": [\n          \"Juliana Costa\",\n          \"Mariana Ferreira\",\n          \"Pedro Gomes\"\n        ],\n        \"semantic_type\": \"\",\n        \"description\": \"\"\n      }\n    },\n    {\n      \"column\": \"Local da compra\",\n      \"properties\": {\n        \"dtype\": \"category\",\n        \"num_unique_values\": 26,\n        \"samples\": [\n          \"TO\",\n          \"RN\",\n          \"SP\"\n        ],\n        \"semantic_type\": \"\",\n        \"description\": \"\"\n      }\n    },\n    {\n      \"column\": \"Avalia\\u00e7\\u00e3o da compra\",\n      \"properties\": {\n        \"dtype\": \"number\",\n        \"std\": 1,\n        \"min\": 1,\n        \"max\": 5,\n        \"num_unique_values\": 5,\n        \"samples\": [\n          1,\n          2,\n          5\n        ],\n        \"semantic_type\": \"\",\n        \"description\": \"\"\n      }\n    },\n    {\n      \"column\": \"Tipo de pagamento\",\n      \"properties\": {\n        \"dtype\": \"category\",\n        \"num_unique_values\": 4,\n        \"samples\": [\n          \"boleto\",\n          \"cartao_debito\",\n          \"cartao_credito\"\n        ],\n        \"semantic_type\": \"\",\n        \"description\": \"\"\n      }\n    },\n    {\n      \"column\": \"Quantidade de parcelas\",\n      \"properties\": {\n        \"dtype\": \"number\",\n        \"std\": 2,\n        \"min\": 1,\n        \"max\": 24,\n        \"num_unique_values\": 15,\n        \"samples\": [\n          7,\n          14,\n          8\n        ],\n        \"semantic_type\": \"\",\n        \"description\": \"\"\n      }\n    },\n    {\n      \"column\": \"lat\",\n      \"properties\": {\n        \"dtype\": \"number\",\n        \"std\": 5.372399916530833,\n        \"min\": -30.17,\n        \"max\": 1.41,\n        \"num_unique_values\": 26,\n        \"samples\": [\n          -9.46,\n          -5.81,\n          -22.19\n        ],\n        \"semantic_type\": \"\",\n        \"description\": \"\"\n      }\n    },\n    {\n      \"column\": \"lon\",\n      \"properties\": {\n        \"dtype\": \"number\",\n        \"std\": 4.183180020544179,\n        \"min\": -70.55,\n        \"max\": -36.59,\n        \"num_unique_values\": 26,\n        \"samples\": [\n          -48.26,\n          -36.59,\n          -48.79\n        ],\n        \"semantic_type\": \"\",\n        \"description\": \"\"\n      }\n    }\n  ]\n}"
            }
          },
          "metadata": {},
          "execution_count": 49
        }
      ],
      "source": [
        "import pandas as pd\n",
        "\n",
        "url1 = \"https://raw.githubusercontent.com/alura-es-cursos/challenge1-data-science/refs/heads/main/base-de-dados-challenge-1/loja_1.csv\"\n",
        "url2 = \"https://raw.githubusercontent.com/alura-es-cursos/challenge1-data-science/refs/heads/main/base-de-dados-challenge-1/loja_2.csv\"\n",
        "url3 = \"https://raw.githubusercontent.com/alura-es-cursos/challenge1-data-science/refs/heads/main/base-de-dados-challenge-1/loja_3.csv\"\n",
        "url4 = \"https://raw.githubusercontent.com/alura-es-cursos/challenge1-data-science/refs/heads/main/base-de-dados-challenge-1/loja_4.csv\"\n",
        "\n",
        "loja1 = pd.read_csv(url1)\n",
        "loja2 = pd.read_csv(url2)\n",
        "loja3 = pd.read_csv(url3)\n",
        "loja4 = pd.read_csv(url4)\n",
        "\n",
        "loja1.head()"
      ]
    },
    {
      "cell_type": "markdown",
      "source": [
        "#1. Análise do faturamento\n"
      ],
      "metadata": {
        "id": "X62IW3KFUIYm"
      }
    },
    {
      "cell_type": "markdown",
      "source": [
        "##  🧮 Cálculo"
      ],
      "metadata": {
        "id": "RspgjqaHnDz7"
      }
    },
    {
      "cell_type": "markdown",
      "source": [
        "Nesta primeira análise, você deve calcular o faturamento total de cada loja. Somando os valores da coluna Preço de cada loja para estimar o faturamento."
      ],
      "metadata": {
        "id": "YNKz-VkMyRwY"
      }
    },
    {
      "cell_type": "code",
      "source": [
        "# função para calculo do faturamento bruto\n",
        "def calcula_fat_bruto(loja_nr):\n",
        "    return loja_nr['Preço'].sum()\n",
        "\n",
        "# calcula faturamento líquido\n",
        "def calcula_fat_liquido(loja_nr):\n",
        "    return loja_nr['Preço'].sum() - loja_nr['Frete'].sum()\n",
        "\n",
        "# calcula gasto total de frete por loja\n",
        "def calcula_frete_total(loja_nr):\n",
        "    return loja_nr['Frete'].sum()\n",
        "\n",
        "# formata apresentação dos valores\n",
        "def formata_valores(valor):\n",
        "    return f'R$ {valor:,.2f}'.replace(',', 'X').replace('.', ',').replace('X', '.')"
      ],
      "metadata": {
        "id": "xykobSftV64I"
      },
      "execution_count": 24,
      "outputs": []
    },
    {
      "cell_type": "code",
      "source": [
        "# calculo bruto e líquido loja 1\n",
        "Faturamento_Bruto_loja1 = calcula_fat_bruto(loja1)\n",
        "Faturamento_Liq_loja1 = calcula_fat_liquido(loja1)\n",
        "Margem_Liq_loja1 = round((Faturamento_Liq_loja1 / Faturamento_Bruto_loja1) * 100,3)\n",
        "Custo_Frete_loja1 = calcula_frete_total(loja1)\n",
        "print('Faturamento loja 1')\n",
        "print(f'Bruto: R$ {formata_valores(Faturamento_Bruto_loja1)}')\n",
        "print(f'Líquido: R$ {formata_valores(Faturamento_Liq_loja1)}')\n",
        "print(f'Margem Líquida: {Margem_Liq_loja1}%')\n",
        "print(f'Custo de Frete: R$ {formata_valores(Custo_Frete_loja1)}')\n",
        "\n",
        "# calculo bruto e líquido loja 2\n",
        "Faturamento_Bruto_loja2 = calcula_fat_bruto(loja2)\n",
        "Faturamento_Liq_loja2 = calcula_fat_liquido(loja2)\n",
        "Margem_Liq_loja2 = round((Faturamento_Liq_loja2 / Faturamento_Bruto_loja2) * 100,3)\n",
        "Custo_Frete_loja2 = calcula_frete_total(loja2)\n",
        "print('\\nFaturamento loja 2')\n",
        "print(f'Bruto: R$ {formata_valores(Faturamento_Bruto_loja2)}')\n",
        "print(f'Líquido: R$ {formata_valores(Faturamento_Liq_loja2)}')\n",
        "print(f'Margem Líquida: {Margem_Liq_loja2}%')\n",
        "print(f'Custo de Frete: R$ {formata_valores(Custo_Frete_loja2)}')\n",
        "\n",
        "# calculo bruto e líquido loja 3\n",
        "Faturamento_Bruto_loja3 = calcula_fat_bruto(loja3)\n",
        "Faturamento_Liq_loja3 = calcula_fat_liquido(loja3)\n",
        "Margem_Liq_loja3 = round((Faturamento_Liq_loja3 / Faturamento_Bruto_loja3) * 100,3)\n",
        "Custo_Frete_loja3 = calcula_frete_total(loja3)\n",
        "print('\\nFaturamento loja 3')\n",
        "print(f'Bruto: R$ {formata_valores(Faturamento_Bruto_loja3)}')\n",
        "print(f'Líquido: R$ {formata_valores(Faturamento_Liq_loja3)}')\n",
        "print(f'Margem Líquida: {Margem_Liq_loja3}%')\n",
        "print(f'Custo de Frete: R$ {formata_valores(Custo_Frete_loja3)}')\n",
        "\n",
        "# calculo bruto e líquido loja 4\n",
        "Faturamento_Bruto_loja4 = calcula_fat_bruto(loja4)\n",
        "Faturamento_Liq_loja4 = calcula_fat_liquido(loja4)\n",
        "Margem_Liq_loja4 = round((Faturamento_Liq_loja4 / Faturamento_Bruto_loja4) * 100,3)\n",
        "Custo_Frete_loja4 = calcula_frete_total(loja4)\n",
        "print('\\nFaturamento loja 4')\n",
        "print(f'Bruto: R$ {formata_valores(Faturamento_Bruto_loja4)}')\n",
        "print(f'Líquido: R$ {formata_valores(Faturamento_Liq_loja4)}')\n",
        "print(f'Margem Líquida: {Margem_Liq_loja4}%')\n",
        "print(f'Custo de Frete: R$ {formata_valores(Custo_Frete_loja4)}')"
      ],
      "metadata": {
        "id": "KDyr8E71V3m-",
        "colab": {
          "base_uri": "https://localhost:8080/"
        },
        "outputId": "0f373ffc-2f87-43c8-93d3-bf71e7de24bc"
      },
      "execution_count": 25,
      "outputs": [
        {
          "output_type": "stream",
          "name": "stdout",
          "text": [
            "Faturamento loja 1\n",
            "Bruto: R$ R$ 1.534.509,12\n",
            "Líquido: R$ R$ 1.452.671,15\n",
            "Margem Líquida: 94.667%\n",
            "Custo de Frete: R$ R$ 81.837,97\n",
            "\n",
            "Faturamento loja 2\n",
            "Bruto: R$ R$ 1.488.459,06\n",
            "Líquido: R$ R$ 1.409.144,90\n",
            "Margem Líquida: 94.671%\n",
            "Custo de Frete: R$ R$ 79.314,16\n",
            "\n",
            "Faturamento loja 3\n",
            "Bruto: R$ R$ 1.464.025,03\n",
            "Líquido: R$ R$ 1.386.002,37\n",
            "Margem Líquida: 94.671%\n",
            "Custo de Frete: R$ R$ 78.022,66\n",
            "\n",
            "Faturamento loja 4\n",
            "Bruto: R$ R$ 1.384.497,58\n",
            "Líquido: R$ R$ 1.310.741,70\n",
            "Margem Líquida: 94.673%\n",
            "Custo de Frete: R$ R$ 73.755,88\n"
          ]
        }
      ]
    },
    {
      "cell_type": "markdown",
      "source": [
        "## 📊 Análise de performance de vendas por categoria"
      ],
      "metadata": {
        "id": "fErRnV8bnK-w"
      }
    },
    {
      "cell_type": "markdown",
      "source": [
        "Um score de performance que reflita a ordem de desempenho das lojas, podemos considerar três principais indicadores:\n",
        "\n",
        "1. Faturamento Líquido (peso alto) – Indica quanto realmente entrou no caixa.\n",
        "\n",
        "2. Margem Líquida (peso médio) – Mede a eficiência da operação.\n",
        "\n",
        "3. Custo de Frete (peso baixo, inverso) – Quanto menor, melhor.\n",
        "\n",
        "🔧 Etapas do cálculo:\n",
        "1. Normalização (escalonamento dos valores para uma faixa de 0 a 1)\n",
        "* Para faturamento líquido e margem líquida: quanto maior, melhor.\n",
        "\n",
        "* Para custo de frete: quanto menor, melhor.\n",
        "\n",
        "2. Pesos sugeridos:\n",
        "* Faturamento Líquido: 50%\n",
        "\n",
        "* Margem Líquida: 30%\n",
        "\n",
        "* Custo de Frete (inverso): 20%"
      ],
      "metadata": {
        "id": "mXDD3SxKfyvE"
      }
    },
    {
      "cell_type": "markdown",
      "source": [
        "## 🏁 Cálculo dos Scores = Ranking Final"
      ],
      "metadata": {
        "id": "IVLkzVKM1luV"
      }
    },
    {
      "cell_type": "markdown",
      "source": [
        "🥇 Loja 1 – Score: 1,000\n",
        "\n",
        "🥈 Loja 2 – Score: 0,937\n",
        "\n",
        "🥉 Loja 3 – Score: 0,902\n",
        "\n",
        "Loja 4 – Score: 0,825"
      ],
      "metadata": {
        "id": "heCPfUKa1pLE"
      }
    },
    {
      "cell_type": "markdown",
      "source": [
        "# 2. Vendas por Categoria\n"
      ],
      "metadata": {
        "id": "2V_vcAPzWZmR"
      }
    },
    {
      "cell_type": "markdown",
      "source": [
        "## 🧮 Cálculo"
      ],
      "metadata": {
        "id": "-Wgfw7Abms6X"
      }
    },
    {
      "cell_type": "markdown",
      "source": [
        "Neste passo, deve calcular a quantidade de produtos vendidos por categoria em cada loja.\n",
        "A ideia é agrupar os dados por categoria e contar o número de vendas de cada tipo, mostrando as categoria mais populares de cada loja"
      ],
      "metadata": {
        "id": "VVjXfce4ybBW"
      }
    },
    {
      "cell_type": "code",
      "source": [
        "# cria um dicionario contendo as informações por categoria:\n",
        "# categoria, quantidade de produtos, faturamento, participação no faturamento total da loja, ticket medio por categoria\n",
        "\n",
        "def monta_dados_completos(loja_nr):\n",
        "    resultado = {}\n",
        "\n",
        "    # Limpeza de dados\n",
        "    df_filtrado = loja_nr.dropna(subset=['Categoria do Produto', 'Preço'])\n",
        "    df_filtrado = df_filtrado[df_filtrado['Categoria do Produto'].str.strip() != '']\n",
        "\n",
        "    # Agrupamentos\n",
        "    qtd_por_cat = df_filtrado.groupby('Categoria do Produto')['Produto'].count()\n",
        "    faturamento_por_cat = df_filtrado.groupby('Categoria do Produto')['Preço'].sum()\n",
        "    ticket_medio_por_cat = df_filtrado.groupby('Categoria do Produto')['Preço'].mean()\n",
        "    faturamento_total = float(faturamento_por_cat.sum())\n",
        "\n",
        "    # Monta o dicionário final com dados limpos\n",
        "    for categoria in qtd_por_cat.index:\n",
        "        quantidade = int(qtd_por_cat[categoria])\n",
        "        faturamento = round(float(faturamento_por_cat[categoria]), 2)\n",
        "        ticket_medio = round(float(ticket_medio_por_cat[categoria]), 2)\n",
        "        participacao = round((faturamento / faturamento_total) * 100, 2)\n",
        "\n",
        "        resultado[categoria] = {\n",
        "            'quantidade': quantidade,\n",
        "            'faturamento': faturamento,\n",
        "            'participacao_faturamento_%': float(participacao),\n",
        "            'ticket_medio': ticket_medio\n",
        "        }\n",
        "\n",
        "    return resultado"
      ],
      "metadata": {
        "id": "A34YupIuYhfF"
      },
      "execution_count": 28,
      "outputs": []
    },
    {
      "cell_type": "code",
      "source": [
        "# cria dicionario com informações da loja 1\n",
        "dicionario_loja1 = monta_dados_completos(loja1)\n",
        "print('Informações por categoria da LOJA 1\\n')\n",
        "\n",
        "for categoria, info in dicionario_loja1.items():\n",
        "    print(categoria.capitalize())\n",
        "    info_linha = ''\n",
        "\n",
        "    for chave, valor in info.items():\n",
        "        info_linha += f'   [{chave}: {valor}] '\n",
        "    print(info_linha)\n",
        "\n",
        "# cria dicionario com informações da loja 2\n",
        "dicionario_loja2 = monta_dados_completos(loja2)\n",
        "print('\\n\\nInformações por categoria da LOJA 2\\n')\n",
        "\n",
        "for categoria, info in dicionario_loja2.items():\n",
        "    print(categoria.capitalize())\n",
        "    info_linha = ''\n",
        "\n",
        "    for chave, valor in info.items():\n",
        "        info_linha += f'   [{chave}: {valor}] '\n",
        "    print(info_linha)\n",
        "\n",
        "# cria dicionario com informações da loja 3\n",
        "dicionario_loja3 = monta_dados_completos(loja3)\n",
        "print('\\n\\nInformações por categoria da LOJA 3\\n')\n",
        "\n",
        "for categoria, info in dicionario_loja3.items():\n",
        "    print(categoria.capitalize())\n",
        "    info_linha = ''\n",
        "\n",
        "    for chave, valor in info.items():\n",
        "        info_linha += f'   [{chave}: {valor}] '\n",
        "    print(info_linha)\n",
        "\n",
        "# cria dicionario com informações da loja 4\n",
        "dicionario_loja4 = monta_dados_completos(loja4)\n",
        "print('\\n\\nInformações por categoria da LOJA 4\\n')\n",
        "\n",
        "for categoria, info in dicionario_loja4.items():\n",
        "    print(categoria.capitalize())\n",
        "    info_linha = ''\n",
        "\n",
        "    for chave, valor in info.items():\n",
        "        info_linha += f'   [{chave}: {valor}] '\n",
        "    print(info_linha)"
      ],
      "metadata": {
        "colab": {
          "base_uri": "https://localhost:8080/"
        },
        "id": "AlM9R0yuwlYK",
        "outputId": "bf731c86-9c11-4cbe-bb54-4ec2b5edee3a"
      },
      "execution_count": 29,
      "outputs": [
        {
          "output_type": "stream",
          "name": "stdout",
          "text": [
            "Informações por categoria da LOJA 1\n",
            "\n",
            "Brinquedos\n",
            "   [quantidade: 324]    [faturamento: 23993.78]    [participacao_faturamento_%: 1.56]    [ticket_medio: 74.05] \n",
            "Eletrodomesticos\n",
            "   [quantidade: 312]    [faturamento: 484913.36]    [participacao_faturamento_%: 31.6]    [ticket_medio: 1554.21] \n",
            "Eletronicos\n",
            "   [quantidade: 448]    [faturamento: 572659.23]    [participacao_faturamento_%: 37.32]    [ticket_medio: 1278.26] \n",
            "Esporte e lazer\n",
            "   [quantidade: 284]    [faturamento: 52387.55]    [participacao_faturamento_%: 3.41]    [ticket_medio: 184.46] \n",
            "Instrumentos musicais\n",
            "   [quantidade: 182]    [faturamento: 121731.69]    [participacao_faturamento_%: 7.93]    [ticket_medio: 668.86] \n",
            "Livros\n",
            "   [quantidade: 173]    [faturamento: 11713.92]    [participacao_faturamento_%: 0.76]    [ticket_medio: 67.71] \n",
            "Moveis\n",
            "   [quantidade: 465]    [faturamento: 250178.11]    [participacao_faturamento_%: 16.3]    [ticket_medio: 538.02] \n",
            "Utilidades domesticas\n",
            "   [quantidade: 171]    [faturamento: 16931.48]    [participacao_faturamento_%: 1.1]    [ticket_medio: 99.01] \n",
            "\n",
            "\n",
            "Informações por categoria da LOJA 2\n",
            "\n",
            "Brinquedos\n",
            "   [quantidade: 313]    [faturamento: 21262.21]    [participacao_faturamento_%: 1.43]    [ticket_medio: 67.93] \n",
            "Eletrodomesticos\n",
            "   [quantidade: 305]    [faturamento: 464758.13]    [participacao_faturamento_%: 31.22]    [ticket_medio: 1523.8] \n",
            "Eletronicos\n",
            "   [quantidade: 422]    [faturamento: 547773.71]    [participacao_faturamento_%: 36.8]    [ticket_medio: 1298.04] \n",
            "Esporte e lazer\n",
            "   [quantidade: 275]    [faturamento: 46326.09]    [participacao_faturamento_%: 3.11]    [ticket_medio: 168.46] \n",
            "Instrumentos musicais\n",
            "   [quantidade: 224]    [faturamento: 139987.03]    [participacao_faturamento_%: 9.4]    [ticket_medio: 624.94] \n",
            "Livros\n",
            "   [quantidade: 197]    [faturamento: 13454.35]    [participacao_faturamento_%: 0.9]    [ticket_medio: 68.3] \n",
            "Moveis\n",
            "   [quantidade: 442]    [faturamento: 235234.68]    [participacao_faturamento_%: 15.8]    [ticket_medio: 532.21] \n",
            "Utilidades domesticas\n",
            "   [quantidade: 181]    [faturamento: 19662.86]    [participacao_faturamento_%: 1.32]    [ticket_medio: 108.63] \n",
            "\n",
            "\n",
            "Informações por categoria da LOJA 3\n",
            "\n",
            "Brinquedos\n",
            "   [quantidade: 315]    [faturamento: 25869.2]    [participacao_faturamento_%: 1.77]    [ticket_medio: 82.12] \n",
            "Eletrodomesticos\n",
            "   [quantidade: 278]    [faturamento: 438984.89]    [participacao_faturamento_%: 29.98]    [ticket_medio: 1579.08] \n",
            "Eletronicos\n",
            "   [quantidade: 451]    [faturamento: 547699.92]    [participacao_faturamento_%: 37.41]    [ticket_medio: 1214.41] \n",
            "Esporte e lazer\n",
            "   [quantidade: 277]    [faturamento: 47456.1]    [participacao_faturamento_%: 3.24]    [ticket_medio: 171.32] \n",
            "Instrumentos musicais\n",
            "   [quantidade: 177]    [faturamento: 103174.45]    [participacao_faturamento_%: 7.05]    [ticket_medio: 582.91] \n",
            "Livros\n",
            "   [quantidade: 185]    [faturamento: 12664.7]    [participacao_faturamento_%: 0.87]    [ticket_medio: 68.46] \n",
            "Moveis\n",
            "   [quantidade: 499]    [faturamento: 268095.56]    [participacao_faturamento_%: 18.31]    [ticket_medio: 537.27] \n",
            "Utilidades domesticas\n",
            "   [quantidade: 177]    [faturamento: 20080.21]    [participacao_faturamento_%: 1.37]    [ticket_medio: 113.45] \n",
            "\n",
            "\n",
            "Informações por categoria da LOJA 4\n",
            "\n",
            "Brinquedos\n",
            "   [quantidade: 338]    [faturamento: 27015.67]    [participacao_faturamento_%: 1.95]    [ticket_medio: 79.93] \n",
            "Eletrodomesticos\n",
            "   [quantidade: 254]    [faturamento: 377680.65]    [participacao_faturamento_%: 27.28]    [ticket_medio: 1486.93] \n",
            "Eletronicos\n",
            "   [quantidade: 451]    [faturamento: 545966.86]    [participacao_faturamento_%: 39.43]    [ticket_medio: 1210.57] \n",
            "Esporte e lazer\n",
            "   [quantidade: 277]    [faturamento: 44465.65]    [participacao_faturamento_%: 3.21]    [ticket_medio: 160.53] \n",
            "Instrumentos musicais\n",
            "   [quantidade: 170]    [faturamento: 100136.5]    [participacao_faturamento_%: 7.23]    [ticket_medio: 589.04] \n",
            "Livros\n",
            "   [quantidade: 187]    [faturamento: 12427.77]    [participacao_faturamento_%: 0.9]    [ticket_medio: 66.46] \n",
            "Moveis\n",
            "   [quantidade: 480]    [faturamento: 256705.65]    [participacao_faturamento_%: 18.54]    [ticket_medio: 534.8] \n",
            "Utilidades domesticas\n",
            "   [quantidade: 201]    [faturamento: 20098.83]    [participacao_faturamento_%: 1.45]    [ticket_medio: 99.99] \n"
          ]
        }
      ]
    },
    {
      "cell_type": "code",
      "source": [
        "# Dicionários com as quantidades por loja\n",
        "dict_qtd_cat_loja = {\n",
        "    'Loja 1': dicionario_loja1,\n",
        "    'Loja 2': dicionario_loja2,\n",
        "    'Loja 3': dicionario_loja3,\n",
        "    'Loja 4': dicionario_loja4\n",
        "}\n",
        "\n",
        "# Coleta todas as categorias existentes em todas as lojas\n",
        "categorias = set()\n",
        "for vendas in dict_qtd_cat_loja.values():\n",
        "    categorias.update(vendas.keys())\n",
        "\n",
        "# Resultado\n",
        "print(\"Loja que MAIS e MENOS vende por categoria:\\n\")\n",
        "for categoria in categorias:\n",
        "    vendas_por_loja = {\n",
        "        loja: vendas[categoria]['quantidade'] if categoria in vendas else 0\n",
        "        for loja, vendas in dict_qtd_cat_loja.items()\n",
        "    }\n",
        "    loja_mais = max(vendas_por_loja, key=vendas_por_loja.get)\n",
        "    loja_menos = min(vendas_por_loja, key=vendas_por_loja.get)\n",
        "\n",
        "    print(f\"{categoria.title()}:\")\n",
        "    print(f\"  ➤ Mais vende: {loja_mais} ({vendas_por_loja[loja_mais]})\")\n",
        "    print(f\"  ➤ Menos vende: {loja_menos} ({vendas_por_loja[loja_menos]})\\n\")"
      ],
      "metadata": {
        "colab": {
          "base_uri": "https://localhost:8080/"
        },
        "id": "_QRJ-jdRhzmA",
        "outputId": "b66a0945-add3-48a4-f22b-1de1af878bc5"
      },
      "execution_count": 48,
      "outputs": [
        {
          "output_type": "stream",
          "name": "stdout",
          "text": [
            "Loja que MAIS e MENOS vende por categoria:\n",
            "\n",
            "Eletrodomesticos:\n",
            "  ➤ Mais vende: Loja 1 (312)\n",
            "  ➤ Menos vende: Loja 4 (254)\n",
            "\n",
            "Brinquedos:\n",
            "  ➤ Mais vende: Loja 4 (338)\n",
            "  ➤ Menos vende: Loja 2 (313)\n",
            "\n",
            "Utilidades Domesticas:\n",
            "  ➤ Mais vende: Loja 4 (201)\n",
            "  ➤ Menos vende: Loja 1 (171)\n",
            "\n",
            "Livros:\n",
            "  ➤ Mais vende: Loja 2 (197)\n",
            "  ➤ Menos vende: Loja 1 (173)\n",
            "\n",
            "Instrumentos Musicais:\n",
            "  ➤ Mais vende: Loja 2 (224)\n",
            "  ➤ Menos vende: Loja 4 (170)\n",
            "\n",
            "Esporte E Lazer:\n",
            "  ➤ Mais vende: Loja 1 (284)\n",
            "  ➤ Menos vende: Loja 2 (275)\n",
            "\n",
            "Eletronicos:\n",
            "  ➤ Mais vende: Loja 3 (451)\n",
            "  ➤ Menos vende: Loja 2 (422)\n",
            "\n",
            "Moveis:\n",
            "  ➤ Mais vende: Loja 3 (499)\n",
            "  ➤ Menos vende: Loja 2 (442)\n",
            "\n"
          ]
        }
      ]
    },
    {
      "cell_type": "markdown",
      "source": [
        "## 📊 Análise de performance de vendas por categoria"
      ],
      "metadata": {
        "id": "pCATur5zmTyU"
      }
    },
    {
      "cell_type": "markdown",
      "source": [
        "Os principais indicadores de performance de vendas por categoria, com foco em:\n",
        "\n",
        "Categoria mais vendida por quantidade\n",
        "\n",
        "Categoria com maior faturamento\n",
        "\n",
        "Categoria com maior ticket médio\n",
        "\n",
        "Categorias com maior participação no faturamento\n",
        "\n",
        "Ranking geral por popularidade (vendas)\n",
        "\n",
        "🏬 LOJA 1\n",
        "\n",
        "Mais vendida (quantidade): Móveis (465)\n",
        "\n",
        "Maior faturamento: Eletrônicos (R$ 572.659,23)\n",
        "\n",
        "Maior ticket médio: Eletrodomésticos (R$ 1.554,21)\n",
        "\n",
        "Top 3 por participação no faturamento:\n",
        "\n",
        "Eletrônicos – 37,32%\n",
        "\n",
        "Eletrodomésticos – 31,60%\n",
        "\n",
        "Móveis – 16,30%\n",
        "\n",
        "🏬 LOJA 2\n",
        "\n",
        "Mais vendida (quantidade): Móveis (442)\n",
        "\n",
        "Maior faturamento: Eletrônicos (R$ 547.773,71)\n",
        "\n",
        "Maior ticket médio: Eletrodomésticos (R$ 1.523,80)\n",
        "\n",
        "Top 3 por participação no faturamento:\n",
        "\n",
        "Eletrônicos – 36,80%\n",
        "\n",
        "Eletrodomésticos – 31,22%\n",
        "\n",
        "Móveis – 15,80%\n",
        "\n",
        "🏬 LOJA 3\n",
        "\n",
        "Mais vendida (quantidade): Móveis (499)\n",
        "\n",
        "Maior faturamento: Eletrônicos (R$ 547.699,92)\n",
        "\n",
        "Maior ticket médio: Eletrodomésticos (R$ 1.579,08)\n",
        "\n",
        "Top 3 por participação no faturamento:\n",
        "\n",
        "Eletrônicos – 37,41%\n",
        "\n",
        "Eletrodomésticos – 29,98%\n",
        "\n",
        "Móveis – 18,31%\n",
        "\n",
        "🏬 LOJA 4\n",
        "\n",
        "Mais vendida (quantidade): Móveis (480)\n",
        "\n",
        "Maior faturamento: Eletrônicos (R$ 545.966,86)\n",
        "\n",
        "Maior ticket médio: Eletrodomésticos (R$ 1.486,93)\n",
        "\n",
        "Top 3 por participação no faturamento:\n",
        "\n",
        "Eletrônicos – 39,43%\n",
        "\n",
        "Eletrodomésticos – 27,28%\n",
        "\n",
        "Móveis – 18,54%\n",
        "\n",
        "\n",
        "✅ Conclusões Estratégicas\n",
        "\n",
        "Eletrônicos são o carro-chefe de faturamento em todas as lojas.\n",
        "\n",
        "Eletrodomésticos dominam em ticket médio, mostrando vendas de alto valor.\n",
        "\n",
        "Móveis são os campeões em volume de vendas, apesar do ticket menor que os eletrônicos.\n",
        "\n",
        "Brinquedos, livros e utilidades domésticas têm baixa participação, podendo ser revistos em termos de mix de produtos ou promoções.\n",
        "\n",
        "\n",
        "✅ Indicadores considerados (por categoria):\n",
        "\n",
        "Com base nas informações por categoria de vendas, podemos criar um score de performance por loja considerando os seguintes indicadores por categoria:\n",
        "\n",
        "Quantidade vendida (peso alto)\n",
        "\n",
        "Faturamento (peso médio)\n",
        "\n",
        "Ticket médio (peso complementar)\n",
        "\n",
        "Participação no faturamento total da loja (peso de equilíbrio)\n",
        "\n",
        "🎯 Estratégia do Score:\n",
        "\n",
        "Para cada categoria, a loja que for a melhor em um dos indicadores (por ex: maior quantidade vendida) recebe 4 pontos, a segunda melhor 3, a terceira 2, e a pior 1 ponto. Isso será feito por categoria e por indicador, depois somamos tudo.\n",
        "\n",
        "\n",
        "🏁 Conclusão:\n",
        "\n",
        "Loja 3 lidera em variedade e força em móveis, eletrônicos e ticket médio alto.\n",
        "\n",
        "Loja 4 se destaca com boa constância em todas as categorias, especialmente brinquedos e móveis.\n",
        "\n",
        "Loja 1 é forte em eletrodomésticos e eletrônicos, mas tem menor desempenho em livros e utilidades.\n",
        "\n",
        "Loja 2 fica para trás no geral, apesar de boas vendas em instrumentos musicais."
      ],
      "metadata": {
        "id": "FAlUoLSxmb2o"
      }
    },
    {
      "cell_type": "markdown",
      "source": [
        "## 🏁 Cálculo dos Scores = Ranking Final"
      ],
      "metadata": {
        "id": "o_6GFGNo186d"
      }
    },
    {
      "cell_type": "markdown",
      "source": [
        "🥇 Loja 3 – Score: 110\n",
        "\n",
        "🥈 Loja 4 – Score: 104\n",
        "\n",
        "🥉 Loja 1 – Score: 98\n",
        "\n",
        "Loja 2 – Score: 92"
      ],
      "metadata": {
        "id": "T_be1jT81-v3"
      }
    },
    {
      "cell_type": "markdown",
      "source": [
        "# 3. Média de Avaliação das Lojas"
      ],
      "metadata": {
        "id": "Rq6tU_xSY3jk"
      }
    },
    {
      "cell_type": "markdown",
      "source": [
        "## 🧮 Cálculo"
      ],
      "metadata": {
        "id": "nz_y76WBw_Ia"
      }
    },
    {
      "cell_type": "markdown",
      "source": [
        "Neste passo, vamos calcular a média das avaliações dos clientes para cada loja. O objetivo é entender a satisfação dos clientes com os produtos vendidos."
      ],
      "metadata": {
        "id": "dRYgcETvieUA"
      }
    },
    {
      "cell_type": "code",
      "source": [
        "# função para calcular media das avaliações\n",
        "def calcula_media_avaliacao(loja_nr):\n",
        "    return loja_nr['Avaliação da compra'].mean()"
      ],
      "metadata": {
        "id": "bh3jjjJwY5MU"
      },
      "execution_count": 34,
      "outputs": []
    },
    {
      "cell_type": "code",
      "source": [
        "# Apresenta média de avaliação - loja 1\n",
        "media_avaliacao_loja1 = round(calcula_media_avaliacao(loja1),3)\n",
        "print(f'Avaliação Média de compra da loja 1: {media_avaliacao_loja1}\\n')\n",
        "\n",
        "# Apresenta média de avaliação - loja 2\n",
        "media_avaliacao_loja2 = round(calcula_media_avaliacao(loja2),3)\n",
        "print(f'Avaliação Média de compra da loja 2: {media_avaliacao_loja2}\\n')\n",
        "\n",
        "# Apresenta média de avaliação - loja 3\n",
        "media_avaliacao_loja3 = round(calcula_media_avaliacao(loja3),3)\n",
        "print(f'Avaliação Média de compra da loja 3: {media_avaliacao_loja3}\\n')\n",
        "\n",
        "# Apresenta média de avaliação - loja 4\n",
        "media_avaliacao_loja4 = round(calcula_media_avaliacao(loja4),3)\n",
        "print(f'Avaliação Média de compra da loja 4: {media_avaliacao_loja4}\\n')"
      ],
      "metadata": {
        "id": "I0KkjPoTY88F",
        "colab": {
          "base_uri": "https://localhost:8080/"
        },
        "outputId": "b6463323-2b74-4a0d-f1e1-ba8723ffdc15"
      },
      "execution_count": 35,
      "outputs": [
        {
          "output_type": "stream",
          "name": "stdout",
          "text": [
            "Avaliação Média de compra da loja 1: 3.977\n",
            "\n",
            "Avaliação Média de compra da loja 2: 4.037\n",
            "\n",
            "Avaliação Média de compra da loja 3: 4.048\n",
            "\n",
            "Avaliação Média de compra da loja 4: 3.996\n",
            "\n"
          ]
        }
      ]
    },
    {
      "cell_type": "markdown",
      "source": [
        "## 📊 Análise de performance da Média de Avaliação das Lojas 🏁 Cálculo dos Scores = Ranking Final"
      ],
      "metadata": {
        "id": "Q5on-lPKxCV7"
      }
    },
    {
      "cell_type": "markdown",
      "source": [
        "🏆 Ranking de Performance por Loja:\n",
        "\n",
        "🥇 Loja 3 – Média: 4.048\n",
        "\n",
        "🥈 Loja 2 – Média: 4.037\n",
        "\n",
        "🥉 Loja 4 – Média: 3.996\n",
        "\n",
        "Loja 1 – Média: 3.977"
      ],
      "metadata": {
        "id": "jG3hlobz1E5_"
      }
    },
    {
      "cell_type": "markdown",
      "source": [
        "# 4. Produtos Mais e Menos Vendidos"
      ],
      "metadata": {
        "id": "DmNp1KPBZCm-"
      }
    },
    {
      "cell_type": "markdown",
      "source": [
        "## 🧮 Cálculo"
      ],
      "metadata": {
        "id": "KKdjj1eRxwNA"
      }
    },
    {
      "cell_type": "markdown",
      "source": [
        "Neste passo, deve identificar quais produtos foram os mais vendidos e os menos vendidos em cada loja.  Ao final, visualize os resultados de forma que fique claro quais produtos se destacaram nas vendas de cada loja."
      ],
      "metadata": {
        "id": "xDtmI8jJiakR"
      }
    },
    {
      "cell_type": "code",
      "source": [
        "# função que soma quantidade vendida por produto\n",
        "# função que calcula o preço médio de vendas por produto\n",
        "def monta_dados_venda_prod(loja_nr):\n",
        "    resultado = {}\n",
        "\n",
        "    # Limpeza de dados\n",
        "    df_filtrado = loja_nr.dropna(subset=['Produto'])\n",
        "    df_filtrado = df_filtrado[df_filtrado['Produto'].str.strip() != '']\n",
        "\n",
        "    # quantidade vendida por produto\n",
        "    qtd_por_prod = df_filtrado['Produto'].value_counts()\n",
        "\n",
        "    # calcula o valor medio de venda por produto\n",
        "    faturamento_por_prod = df_filtrado.groupby('Produto')['Preço'].sum()\n",
        "    ticket_medio_por_prod = df_filtrado.groupby('Produto')['Preço'].mean()\n",
        "    faturamento_total = float(faturamento_por_prod.sum())\n",
        "\n",
        "    # Monta o dicionário final com dados limpos\n",
        "    for categoria in qtd_por_prod.index:\n",
        "        quantidade = int(qtd_por_prod[categoria])\n",
        "        faturamento = round(float(faturamento_por_prod[categoria]), 2)\n",
        "        ticket_medio = round(float(ticket_medio_por_prod[categoria]), 2)\n",
        "        participacao = round((faturamento / faturamento_total) * 100, 2)\n",
        "\n",
        "        resultado[categoria] = {\n",
        "            'quantidade': quantidade,\n",
        "            'faturamento': faturamento,\n",
        "            'participacao_faturamento_%': float(participacao),\n",
        "            'ticket_medio': ticket_medio\n",
        "        }\n",
        "\n",
        "    return resultado"
      ],
      "metadata": {
        "id": "qoyjqijQZHfF"
      },
      "execution_count": 36,
      "outputs": []
    },
    {
      "cell_type": "code",
      "source": [
        "# calcula quantidade de venda por produtos - loja 1\n",
        "vendas_produto1 =  monta_dados_venda_prod(loja1)\n",
        "print('Quantidade de produtos vendidos da LOJA 1')\n",
        "print(vendas_produto1)\n",
        "\n",
        "# calcula quantidade de venda por produtos - loja 2\n",
        "vendas_produto2 =  monta_dados_venda_prod(loja2)\n",
        "print('\\n\\nQuantidade de produtos vendidos da LOJA 2')\n",
        "print(vendas_produto2)\n",
        "\n",
        "# calcula quantidade de venda por produtos - loja 3\n",
        "vendas_produto3 =  monta_dados_venda_prod(loja3)\n",
        "print('\\n\\nQuantidade de produtos vendidos da LOJA 3')\n",
        "print(vendas_produto3)\n",
        "\n",
        "# calcula quantidade de venda por produtos - loja 4\n",
        "vendas_produto4 =  monta_dados_venda_prod(loja4)\n",
        "print('\\n\\nQuantidade de produtos vendidos da LOJA 4')\n",
        "print(vendas_produto4)"
      ],
      "metadata": {
        "colab": {
          "base_uri": "https://localhost:8080/"
        },
        "id": "gwWwkhgDK2N_",
        "outputId": "1a8940b0-81f1-4bd4-e716-be209608b07d"
      },
      "execution_count": 37,
      "outputs": [
        {
          "output_type": "stream",
          "name": "stdout",
          "text": [
            "Quantidade de produtos vendidos da LOJA 1\n",
            "{'Micro-ondas': {'quantidade': 60, 'faturamento': 46348.89, 'participacao_faturamento_%': 3.02, 'ticket_medio': 772.48}, 'TV Led UHD 4K': {'quantidade': 60, 'faturamento': 189534.28, 'participacao_faturamento_%': 12.35, 'ticket_medio': 3158.9}, 'Guarda roupas': {'quantidade': 60, 'faturamento': 39282.78, 'participacao_faturamento_%': 2.56, 'ticket_medio': 654.71}, 'Secadora de roupas': {'quantidade': 58, 'faturamento': 78749.73, 'participacao_faturamento_%': 5.13, 'ticket_medio': 1357.75}, 'Cômoda': {'quantidade': 56, 'faturamento': 20905.92, 'participacao_faturamento_%': 1.36, 'ticket_medio': 373.32}, 'Blocos de montar': {'quantidade': 56, 'faturamento': 2487.74, 'participacao_faturamento_%': 0.16, 'ticket_medio': 44.42}, 'Bola de basquete': {'quantidade': 55, 'faturamento': 3666.88, 'participacao_faturamento_%': 0.24, 'ticket_medio': 66.67}, 'Bicicleta': {'quantidade': 54, 'faturamento': 36592.38, 'participacao_faturamento_%': 2.38, 'ticket_medio': 677.64}, 'Copo térmico': {'quantidade': 54, 'faturamento': 3284.68, 'participacao_faturamento_%': 0.21, 'ticket_medio': 60.83}, 'Geladeira': {'quantidade': 54, 'faturamento': 149524.28, 'participacao_faturamento_%': 9.74, 'ticket_medio': 2768.97}, 'Impressora': {'quantidade': 54, 'faturamento': 21884.23, 'participacao_faturamento_%': 1.43, 'ticket_medio': 405.26}, 'Bateria': {'quantidade': 53, 'faturamento': 50258.34, 'participacao_faturamento_%': 3.28, 'ticket_medio': 948.27}, 'Faqueiro': {'quantidade': 52, 'faturamento': 3203.18, 'participacao_faturamento_%': 0.21, 'ticket_medio': 61.6}, 'Carrinho controle remoto': {'quantidade': 52, 'faturamento': 5015.28, 'participacao_faturamento_%': 0.33, 'ticket_medio': 96.45}, 'Modelagem preditiva': {'quantidade': 51, 'faturamento': 4229.85, 'participacao_faturamento_%': 0.28, 'ticket_medio': 82.94}, 'Fone de ouvido': {'quantidade': 50, 'faturamento': 6725.32, 'participacao_faturamento_%': 0.44, 'ticket_medio': 134.51}, 'Xadrez de madeira': {'quantidade': 49, 'faturamento': 1907.42, 'participacao_faturamento_%': 0.12, 'ticket_medio': 38.93}, 'Celular Plus X42': {'quantidade': 49, 'faturamento': 130536.4, 'participacao_faturamento_%': 8.51, 'ticket_medio': 2664.01}, 'Lava louças': {'quantidade': 48, 'faturamento': 82739.86, 'participacao_faturamento_%': 5.39, 'ticket_medio': 1723.75}, 'Lavadora de roupas': {'quantidade': 47, 'faturamento': 87711.3, 'participacao_faturamento_%': 5.72, 'ticket_medio': 1866.2}, 'Guitarra': {'quantidade': 47, 'faturamento': 49722.88, 'participacao_faturamento_%': 3.24, 'ticket_medio': 1057.93}, 'Violão': {'quantidade': 46, 'faturamento': 18765.28, 'participacao_faturamento_%': 1.22, 'ticket_medio': 407.94}, 'Sofá retrátil': {'quantidade': 46, 'faturamento': 41839.25, 'participacao_faturamento_%': 2.73, 'ticket_medio': 909.55}, 'Cadeira de escritório': {'quantidade': 46, 'faturamento': 23556.36, 'participacao_faturamento_%': 1.54, 'ticket_medio': 512.09}, 'Fogão': {'quantidade': 45, 'faturamento': 39839.3, 'participacao_faturamento_%': 2.6, 'ticket_medio': 885.32}, 'Cama box': {'quantidade': 44, 'faturamento': 29459.35, 'participacao_faturamento_%': 1.92, 'ticket_medio': 669.53}, 'Kit banquetas': {'quantidade': 44, 'faturamento': 16188.25, 'participacao_faturamento_%': 1.05, 'ticket_medio': 367.91}, 'Smart TV': {'quantidade': 44, 'faturamento': 89936.15, 'participacao_faturamento_%': 5.86, 'ticket_medio': 2044.0}, 'Cama king': {'quantidade': 44, 'faturamento': 41569.04, 'participacao_faturamento_%': 2.71, 'ticket_medio': 944.75}, 'Cubo mágico 8x8': {'quantidade': 44, 'faturamento': 929.27, 'participacao_faturamento_%': 0.06, 'ticket_medio': 21.12}, 'Mesa de centro': {'quantidade': 44, 'faturamento': 10162.54, 'participacao_faturamento_%': 0.66, 'ticket_medio': 230.97}, 'Jogo de panelas': {'quantidade': 43, 'faturamento': 8410.44, 'participacao_faturamento_%': 0.55, 'ticket_medio': 195.59}, 'Smartwatch': {'quantidade': 43, 'faturamento': 9936.51, 'participacao_faturamento_%': 0.65, 'ticket_medio': 231.08}, 'Jogo de tabuleiro': {'quantidade': 43, 'faturamento': 10152.5, 'participacao_faturamento_%': 0.66, 'ticket_medio': 236.1}, 'Bola de vôlei': {'quantidade': 42, 'faturamento': 2816.22, 'participacao_faturamento_%': 0.18, 'ticket_medio': 67.05}, 'Dashboards com Power BI': {'quantidade': 42, 'faturamento': 1940.86, 'participacao_faturamento_%': 0.13, 'ticket_medio': 46.21}, 'Tablet ABXY': {'quantidade': 42, 'faturamento': 63520.11, 'participacao_faturamento_%': 4.14, 'ticket_medio': 1512.38}, 'Poltrona': {'quantidade': 41, 'faturamento': 13172.23, 'participacao_faturamento_%': 0.86, 'ticket_medio': 321.27}, 'Iniciando em programação': {'quantidade': 41, 'faturamento': 2791.03, 'participacao_faturamento_%': 0.18, 'ticket_medio': 68.07}, 'Jogo de copos': {'quantidade': 41, 'faturamento': 1812.15, 'participacao_faturamento_%': 0.12, 'ticket_medio': 44.2}, 'Assistente virtual': {'quantidade': 40, 'faturamento': 10744.05, 'participacao_faturamento_%': 0.7, 'ticket_medio': 268.6}, 'Boneca bebê': {'quantidade': 40, 'faturamento': 2583.17, 'participacao_faturamento_%': 0.17, 'ticket_medio': 64.58}, 'Mesa de jantar': {'quantidade': 40, 'faturamento': 14042.39, 'participacao_faturamento_%': 0.92, 'ticket_medio': 351.06}, 'Dinossauro Rex': {'quantidade': 40, 'faturamento': 918.4, 'participacao_faturamento_%': 0.06, 'ticket_medio': 22.96}, 'Corda de pular': {'quantidade': 40, 'faturamento': 870.89, 'participacao_faturamento_%': 0.06, 'ticket_medio': 21.77}, 'Mochila': {'quantidade': 39, 'faturamento': 5156.5, 'participacao_faturamento_%': 0.34, 'ticket_medio': 132.22}, 'Ciência de dados com python': {'quantidade': 39, 'faturamento': 2752.18, 'participacao_faturamento_%': 0.18, 'ticket_medio': 70.57}, 'Pandeiro': {'quantidade': 36, 'faturamento': 2985.19, 'participacao_faturamento_%': 0.19, 'ticket_medio': 82.92}, 'Panela de pressão': {'quantidade': 35, 'faturamento': 3505.71, 'participacao_faturamento_%': 0.23, 'ticket_medio': 100.16}, 'Headset': {'quantidade': 33, 'faturamento': 6307.71, 'participacao_faturamento_%': 0.41, 'ticket_medio': 191.14}, 'Celular ABXY': {'quantidade': 33, 'faturamento': 43534.47, 'participacao_faturamento_%': 2.84, 'ticket_medio': 1319.23}}\n",
            "\n",
            "\n",
            "Quantidade de produtos vendidos da LOJA 2\n",
            "{'Iniciando em programação': {'quantidade': 65, 'faturamento': 4169.96, 'participacao_faturamento_%': 0.28, 'ticket_medio': 64.15}, 'Micro-ondas': {'quantidade': 62, 'faturamento': 48256.37, 'participacao_faturamento_%': 3.24, 'ticket_medio': 778.33}, 'Bateria': {'quantidade': 61, 'faturamento': 61566.87, 'participacao_faturamento_%': 4.14, 'ticket_medio': 1009.29}, 'Violão': {'quantidade': 58, 'faturamento': 24864.13, 'participacao_faturamento_%': 1.67, 'ticket_medio': 428.69}, 'Pandeiro': {'quantidade': 58, 'faturamento': 4967.0, 'participacao_faturamento_%': 0.33, 'ticket_medio': 85.64}, 'Secadora de roupas': {'quantidade': 57, 'faturamento': 78820.31, 'participacao_faturamento_%': 5.3, 'ticket_medio': 1382.81}, 'Celular Plus X42': {'quantidade': 55, 'faturamento': 150967.83, 'participacao_faturamento_%': 10.14, 'ticket_medio': 2744.87}, 'Blocos de montar': {'quantidade': 54, 'faturamento': 2385.91, 'participacao_faturamento_%': 0.16, 'ticket_medio': 44.18}, 'Guarda roupas': {'quantidade': 54, 'faturamento': 34900.24, 'participacao_faturamento_%': 2.34, 'ticket_medio': 646.3}, 'Jogo de panelas': {'quantidade': 52, 'faturamento': 10619.48, 'participacao_faturamento_%': 0.71, 'ticket_medio': 204.22}, 'Corda de pular': {'quantidade': 50, 'faturamento': 1142.54, 'participacao_faturamento_%': 0.08, 'ticket_medio': 22.85}, 'Lavadora de roupas': {'quantidade': 49, 'faturamento': 89016.81, 'participacao_faturamento_%': 5.98, 'ticket_medio': 1816.67}, 'Cadeira de escritório': {'quantidade': 49, 'faturamento': 24706.82, 'participacao_faturamento_%': 1.66, 'ticket_medio': 504.22}, 'Geladeira': {'quantidade': 49, 'faturamento': 130176.48, 'participacao_faturamento_%': 8.75, 'ticket_medio': 2656.66}, 'Boneca bebê': {'quantidade': 48, 'faturamento': 3161.66, 'participacao_faturamento_%': 0.21, 'ticket_medio': 65.87}, 'Carrinho controle remoto': {'quantidade': 47, 'faturamento': 4362.38, 'participacao_faturamento_%': 0.29, 'ticket_medio': 92.82}, 'Guitarra': {'quantidade': 47, 'faturamento': 48589.03, 'participacao_faturamento_%': 3.26, 'ticket_medio': 1033.81}, 'Cama box': {'quantidade': 47, 'faturamento': 32476.36, 'participacao_faturamento_%': 2.18, 'ticket_medio': 690.99}, 'Copo térmico': {'quantidade': 47, 'faturamento': 2874.63, 'participacao_faturamento_%': 0.19, 'ticket_medio': 61.16}, 'Modelagem preditiva': {'quantidade': 46, 'faturamento': 3953.04, 'participacao_faturamento_%': 0.27, 'ticket_medio': 85.94}, 'Bola de vôlei': {'quantidade': 46, 'faturamento': 3052.62, 'participacao_faturamento_%': 0.21, 'ticket_medio': 66.36}, 'Jogo de copos': {'quantidade': 46, 'faturamento': 2056.69, 'participacao_faturamento_%': 0.14, 'ticket_medio': 44.71}, 'Lava louças': {'quantidade': 46, 'faturamento': 78357.0, 'participacao_faturamento_%': 5.26, 'ticket_medio': 1703.41}, 'Kit banquetas': {'quantidade': 45, 'faturamento': 16806.13, 'participacao_faturamento_%': 1.13, 'ticket_medio': 373.47}, 'Cama king': {'quantidade': 45, 'faturamento': 37618.26, 'participacao_faturamento_%': 2.53, 'ticket_medio': 835.96}, 'Bicicleta': {'quantidade': 45, 'faturamento': 30611.11, 'participacao_faturamento_%': 2.06, 'ticket_medio': 680.25}, 'Mochila': {'quantidade': 45, 'faturamento': 5856.96, 'participacao_faturamento_%': 0.39, 'ticket_medio': 130.15}, 'Cubo mágico 8x8': {'quantidade': 45, 'faturamento': 858.22, 'participacao_faturamento_%': 0.06, 'ticket_medio': 19.07}, 'Xadrez de madeira': {'quantidade': 45, 'faturamento': 1717.05, 'participacao_faturamento_%': 0.12, 'ticket_medio': 38.16}, 'Mesa de centro': {'quantidade': 45, 'faturamento': 10367.11, 'participacao_faturamento_%': 0.7, 'ticket_medio': 230.38}, 'TV Led UHD 4K': {'quantidade': 45, 'faturamento': 137833.06, 'participacao_faturamento_%': 9.26, 'ticket_medio': 3062.96}, 'Tablet ABXY': {'quantidade': 44, 'faturamento': 74945.97, 'participacao_faturamento_%': 5.04, 'ticket_medio': 1703.32}, 'Smartwatch': {'quantidade': 44, 'faturamento': 10241.06, 'participacao_faturamento_%': 0.69, 'ticket_medio': 232.75}, 'Cômoda': {'quantidade': 44, 'faturamento': 16306.77, 'participacao_faturamento_%': 1.1, 'ticket_medio': 370.61}, 'Panela de pressão': {'quantidade': 44, 'faturamento': 4676.44, 'participacao_faturamento_%': 0.31, 'ticket_medio': 106.28}, 'Headset': {'quantidade': 44, 'faturamento': 7525.98, 'participacao_faturamento_%': 0.51, 'ticket_medio': 171.05}, 'Sofá retrátil': {'quantidade': 44, 'faturamento': 39318.68, 'participacao_faturamento_%': 2.64, 'ticket_medio': 893.61}, 'Dashboards com Power BI': {'quantidade': 43, 'faturamento': 2132.93, 'participacao_faturamento_%': 0.14, 'ticket_medio': 49.6}, 'Ciência de dados com python': {'quantidade': 43, 'faturamento': 3198.42, 'participacao_faturamento_%': 0.21, 'ticket_medio': 74.38}, 'Bola de basquete': {'quantidade': 42, 'faturamento': 2788.23, 'participacao_faturamento_%': 0.19, 'ticket_medio': 66.39}, 'Fogão': {'quantidade': 42, 'faturamento': 40131.16, 'participacao_faturamento_%': 2.7, 'ticket_medio': 955.5}, 'Dinossauro Rex': {'quantidade': 42, 'faturamento': 1027.41, 'participacao_faturamento_%': 0.07, 'ticket_medio': 24.46}, 'Celular ABXY': {'quantidade': 41, 'faturamento': 55558.43, 'participacao_faturamento_%': 3.73, 'ticket_medio': 1355.08}, 'Smart TV': {'quantidade': 40, 'faturamento': 81522.94, 'participacao_faturamento_%': 5.48, 'ticket_medio': 2038.07}, 'Faqueiro': {'quantidade': 39, 'faturamento': 2310.25, 'participacao_faturamento_%': 0.16, 'ticket_medio': 59.24}, 'Assistente virtual': {'quantidade': 38, 'faturamento': 10572.47, 'participacao_faturamento_%': 0.71, 'ticket_medio': 278.22}, 'Fone de ouvido': {'quantidade': 37, 'faturamento': 4759.28, 'participacao_faturamento_%': 0.32, 'ticket_medio': 128.63}, 'Poltrona': {'quantidade': 35, 'faturamento': 11218.0, 'participacao_faturamento_%': 0.75, 'ticket_medio': 320.51}, 'Mesa de jantar': {'quantidade': 34, 'faturamento': 11516.31, 'participacao_faturamento_%': 0.77, 'ticket_medio': 338.71}, 'Impressora': {'quantidade': 34, 'faturamento': 13846.69, 'participacao_faturamento_%': 0.93, 'ticket_medio': 407.26}, 'Jogo de tabuleiro': {'quantidade': 32, 'faturamento': 7749.58, 'participacao_faturamento_%': 0.52, 'ticket_medio': 242.17}}\n",
            "\n",
            "\n",
            "Quantidade de produtos vendidos da LOJA 3\n",
            "{'Kit banquetas': {'quantidade': 57, 'faturamento': 22265.96, 'participacao_faturamento_%': 1.52, 'ticket_medio': 390.63}, 'Mesa de jantar': {'quantidade': 56, 'faturamento': 19101.4, 'participacao_faturamento_%': 1.3, 'ticket_medio': 341.1}, 'Cama king': {'quantidade': 56, 'faturamento': 51779.9, 'participacao_faturamento_%': 3.54, 'ticket_medio': 924.64}, 'Jogo de panelas': {'quantidade': 55, 'faturamento': 11595.04, 'participacao_faturamento_%': 0.79, 'ticket_medio': 210.82}, 'Cômoda': {'quantidade': 55, 'faturamento': 20487.18, 'participacao_faturamento_%': 1.4, 'ticket_medio': 372.49}, 'Smart TV': {'quantidade': 54, 'faturamento': 105116.46, 'participacao_faturamento_%': 7.18, 'ticket_medio': 1946.6}, 'Fogão': {'quantidade': 53, 'faturamento': 51430.37, 'participacao_faturamento_%': 3.51, 'ticket_medio': 970.38}, 'Corda de pular': {'quantidade': 53, 'faturamento': 1137.76, 'participacao_faturamento_%': 0.08, 'ticket_medio': 21.47}, 'Modelagem preditiva': {'quantidade': 53, 'faturamento': 4499.94, 'participacao_faturamento_%': 0.31, 'ticket_medio': 84.9}, 'Carrinho controle remoto': {'quantidade': 52, 'faturamento': 4960.74, 'participacao_faturamento_%': 0.34, 'ticket_medio': 95.4}, 'Lava louças': {'quantidade': 52, 'faturamento': 85819.73, 'participacao_faturamento_%': 5.86, 'ticket_medio': 1650.38}, 'Bicicleta': {'quantidade': 52, 'faturamento': 32872.35, 'participacao_faturamento_%': 2.25, 'ticket_medio': 632.16}, 'Jogo de tabuleiro': {'quantidade': 52, 'faturamento': 12959.61, 'participacao_faturamento_%': 0.89, 'ticket_medio': 249.22}, 'Pandeiro': {'quantidade': 51, 'faturamento': 4326.9, 'participacao_faturamento_%': 0.3, 'ticket_medio': 84.84}, 'Impressora': {'quantidade': 50, 'faturamento': 18958.16, 'participacao_faturamento_%': 1.29, 'ticket_medio': 379.16}, 'Geladeira': {'quantidade': 50, 'faturamento': 133185.99, 'participacao_faturamento_%': 9.1, 'ticket_medio': 2663.72}, 'Bola de basquete': {'quantidade': 50, 'faturamento': 3304.02, 'participacao_faturamento_%': 0.23, 'ticket_medio': 66.08}, 'Guarda roupas': {'quantidade': 49, 'faturamento': 32249.71, 'participacao_faturamento_%': 2.2, 'ticket_medio': 658.16}, 'Bola de vôlei': {'quantidade': 48, 'faturamento': 3111.74, 'participacao_faturamento_%': 0.21, 'ticket_medio': 64.83}, 'Tablet ABXY': {'quantidade': 48, 'faturamento': 77919.93, 'participacao_faturamento_%': 5.32, 'ticket_medio': 1623.33}, 'Poltrona': {'quantidade': 47, 'faturamento': 15111.19, 'participacao_faturamento_%': 1.03, 'ticket_medio': 321.51}, 'Violão': {'quantidade': 47, 'faturamento': 19891.55, 'participacao_faturamento_%': 1.36, 'ticket_medio': 423.22}, 'Panela de pressão': {'quantidade': 47, 'faturamento': 4502.71, 'participacao_faturamento_%': 0.31, 'ticket_medio': 95.8}, 'Xadrez de madeira': {'quantidade': 47, 'faturamento': 1807.34, 'participacao_faturamento_%': 0.12, 'ticket_medio': 38.45}, 'Ciência de dados com python': {'quantidade': 46, 'faturamento': 3286.59, 'participacao_faturamento_%': 0.22, 'ticket_medio': 71.45}, 'Celular Plus X42': {'quantidade': 46, 'faturamento': 124300.84, 'participacao_faturamento_%': 8.49, 'ticket_medio': 2702.19}, 'Dinossauro Rex': {'quantidade': 46, 'faturamento': 1060.78, 'participacao_faturamento_%': 0.07, 'ticket_medio': 23.06}, 'Cadeira de escritório': {'quantidade': 46, 'faturamento': 24501.63, 'participacao_faturamento_%': 1.67, 'ticket_medio': 532.64}, 'Smartwatch': {'quantidade': 46, 'faturamento': 10695.81, 'participacao_faturamento_%': 0.73, 'ticket_medio': 232.52}, 'Cama box': {'quantidade': 46, 'faturamento': 32933.14, 'participacao_faturamento_%': 2.25, 'ticket_medio': 715.94}, 'Iniciando em programação': {'quantidade': 46, 'faturamento': 3048.36, 'participacao_faturamento_%': 0.21, 'ticket_medio': 66.27}, 'Secadora de roupas': {'quantidade': 45, 'faturamento': 66397.97, 'participacao_faturamento_%': 4.54, 'ticket_medio': 1475.51}, 'Sofá retrátil': {'quantidade': 45, 'faturamento': 40426.24, 'participacao_faturamento_%': 2.76, 'ticket_medio': 898.36}, 'Celular ABXY': {'quantidade': 44, 'faturamento': 57893.04, 'participacao_faturamento_%': 3.95, 'ticket_medio': 1315.75}, 'Cubo mágico 8x8': {'quantidade': 44, 'faturamento': 853.81, 'participacao_faturamento_%': 0.06, 'ticket_medio': 19.4}, 'Fone de ouvido': {'quantidade': 43, 'faturamento': 5279.35, 'participacao_faturamento_%': 0.36, 'ticket_medio': 122.78}, 'TV Led UHD 4K': {'quantidade': 42, 'faturamento': 128892.11, 'participacao_faturamento_%': 8.8, 'ticket_medio': 3068.86}, 'Mesa de centro': {'quantidade': 42, 'faturamento': 9239.21, 'participacao_faturamento_%': 0.63, 'ticket_medio': 219.98}, 'Lavadora de roupas': {'quantidade': 42, 'faturamento': 76612.58, 'participacao_faturamento_%': 5.23, 'ticket_medio': 1824.11}, 'Bateria': {'quantidade': 41, 'faturamento': 39158.71, 'participacao_faturamento_%': 2.67, 'ticket_medio': 955.09}, 'Dashboards com Power BI': {'quantidade': 40, 'faturamento': 1829.81, 'participacao_faturamento_%': 0.12, 'ticket_medio': 45.75}, 'Faqueiro': {'quantidade': 39, 'faturamento': 2368.26, 'participacao_faturamento_%': 0.16, 'ticket_medio': 60.72}, 'Boneca bebê': {'quantidade': 39, 'faturamento': 2577.11, 'participacao_faturamento_%': 0.18, 'ticket_medio': 66.08}, 'Headset': {'quantidade': 39, 'faturamento': 7960.16, 'participacao_faturamento_%': 0.54, 'ticket_medio': 204.11}, 'Assistente virtual': {'quantidade': 39, 'faturamento': 10684.06, 'participacao_faturamento_%': 0.73, 'ticket_medio': 273.95}, 'Copo térmico': {'quantidade': 38, 'faturamento': 2300.69, 'participacao_faturamento_%': 0.16, 'ticket_medio': 60.54}, 'Guitarra': {'quantidade': 38, 'faturamento': 39797.29, 'participacao_faturamento_%': 2.72, 'ticket_medio': 1047.3}, 'Jogo de copos': {'quantidade': 36, 'faturamento': 1614.2, 'participacao_faturamento_%': 0.11, 'ticket_medio': 44.84}, 'Mochila': {'quantidade': 36, 'faturamento': 4729.54, 'participacao_faturamento_%': 0.32, 'ticket_medio': 131.38}, 'Micro-ondas': {'quantidade': 36, 'faturamento': 25538.25, 'participacao_faturamento_%': 1.74, 'ticket_medio': 709.4}, 'Blocos de montar': {'quantidade': 35, 'faturamento': 1649.81, 'participacao_faturamento_%': 0.11, 'ticket_medio': 47.14}}\n",
            "\n",
            "\n",
            "Quantidade de produtos vendidos da LOJA 4\n",
            "{'Cama box': {'quantidade': 62, 'faturamento': 43928.57, 'participacao_faturamento_%': 3.17, 'ticket_medio': 708.53}, 'Faqueiro': {'quantidade': 59, 'faturamento': 3532.16, 'participacao_faturamento_%': 0.26, 'ticket_medio': 59.87}, 'Dashboards com Power BI': {'quantidade': 56, 'faturamento': 2654.28, 'participacao_faturamento_%': 0.19, 'ticket_medio': 47.4}, 'Cama king': {'quantidade': 56, 'faturamento': 50073.16, 'participacao_faturamento_%': 3.62, 'ticket_medio': 894.16}, 'Carrinho controle remoto': {'quantidade': 55, 'faturamento': 5352.22, 'participacao_faturamento_%': 0.39, 'ticket_medio': 97.31}, 'Mesa de jantar': {'quantidade': 55, 'faturamento': 17760.8, 'participacao_faturamento_%': 1.28, 'ticket_medio': 322.92}, 'Cômoda': {'quantidade': 55, 'faturamento': 20192.46, 'participacao_faturamento_%': 1.46, 'ticket_medio': 367.14}, 'Smart TV': {'quantidade': 54, 'faturamento': 110387.57, 'participacao_faturamento_%': 7.97, 'ticket_medio': 2044.21}, 'Blocos de montar': {'quantidade': 54, 'faturamento': 2546.4, 'participacao_faturamento_%': 0.18, 'ticket_medio': 47.16}, 'Pandeiro': {'quantidade': 52, 'faturamento': 4605.63, 'participacao_faturamento_%': 0.33, 'ticket_medio': 88.57}, 'Impressora': {'quantidade': 50, 'faturamento': 20279.95, 'participacao_faturamento_%': 1.46, 'ticket_medio': 405.6}, 'Modelagem preditiva': {'quantidade': 50, 'faturamento': 4137.88, 'participacao_faturamento_%': 0.3, 'ticket_medio': 82.76}, 'Assistente virtual': {'quantidade': 50, 'faturamento': 13956.01, 'participacao_faturamento_%': 1.01, 'ticket_medio': 279.12}, 'Jogo de panelas': {'quantidade': 50, 'faturamento': 10050.38, 'participacao_faturamento_%': 0.73, 'ticket_medio': 201.01}, 'Bola de basquete': {'quantidade': 50, 'faturamento': 3252.94, 'participacao_faturamento_%': 0.23, 'ticket_medio': 65.06}, 'Copo térmico': {'quantidade': 48, 'faturamento': 2869.84, 'participacao_faturamento_%': 0.21, 'ticket_medio': 59.79}, 'Celular Plus X42': {'quantidade': 48, 'faturamento': 128930.07, 'participacao_faturamento_%': 9.31, 'ticket_medio': 2686.04}, 'Boneca bebê': {'quantidade': 48, 'faturamento': 3134.11, 'participacao_faturamento_%': 0.23, 'ticket_medio': 65.29}, 'Bateria': {'quantidade': 48, 'faturamento': 46090.53, 'participacao_faturamento_%': 3.33, 'ticket_medio': 960.22}, 'Bola de vôlei': {'quantidade': 48, 'faturamento': 3152.14, 'participacao_faturamento_%': 0.23, 'ticket_medio': 65.67}, 'Jogo de tabuleiro': {'quantidade': 48, 'faturamento': 12407.53, 'participacao_faturamento_%': 0.9, 'ticket_medio': 258.49}, 'Micro-ondas': {'quantidade': 48, 'faturamento': 34123.73, 'participacao_faturamento_%': 2.46, 'ticket_medio': 710.91}, 'Fogão': {'quantidade': 47, 'faturamento': 43094.36, 'participacao_faturamento_%': 3.11, 'ticket_medio': 916.9}, 'Cubo mágico 8x8': {'quantidade': 47, 'faturamento': 997.38, 'participacao_faturamento_%': 0.07, 'ticket_medio': 21.22}, 'Sofá retrátil': {'quantidade': 47, 'faturamento': 42787.68, 'participacao_faturamento_%': 3.09, 'ticket_medio': 910.38}, 'Dinossauro Rex': {'quantidade': 47, 'faturamento': 1143.94, 'participacao_faturamento_%': 0.08, 'ticket_medio': 24.34}, 'Panela de pressão': {'quantidade': 46, 'faturamento': 4554.05, 'participacao_faturamento_%': 0.33, 'ticket_medio': 99.0}, 'Jogo de copos': {'quantidade': 46, 'faturamento': 1962.24, 'participacao_faturamento_%': 0.14, 'ticket_medio': 42.66}, 'Tablet ABXY': {'quantidade': 45, 'faturamento': 75630.75, 'participacao_faturamento_%': 5.46, 'ticket_medio': 1680.68}, 'Poltrona': {'quantidade': 45, 'faturamento': 14893.93, 'participacao_faturamento_%': 1.08, 'ticket_medio': 330.98}, 'Bicicleta': {'quantidade': 45, 'faturamento': 28572.45, 'participacao_faturamento_%': 2.06, 'ticket_medio': 634.94}, 'Mesa de centro': {'quantidade': 44, 'faturamento': 10020.75, 'participacao_faturamento_%': 0.72, 'ticket_medio': 227.74}, 'Fone de ouvido': {'quantidade': 44, 'faturamento': 5257.86, 'participacao_faturamento_%': 0.38, 'ticket_medio': 119.5}, 'Lava louças': {'quantidade': 43, 'faturamento': 73798.99, 'participacao_faturamento_%': 5.33, 'ticket_medio': 1716.26}, 'Corda de pular': {'quantidade': 43, 'faturamento': 939.74, 'participacao_faturamento_%': 0.07, 'ticket_medio': 21.85}, 'Iniciando em programação': {'quantidade': 43, 'faturamento': 2823.74, 'participacao_faturamento_%': 0.2, 'ticket_medio': 65.67}, 'Mochila': {'quantidade': 43, 'faturamento': 5678.54, 'participacao_faturamento_%': 0.41, 'ticket_medio': 132.06}, 'Headset': {'quantidade': 42, 'faturamento': 8537.05, 'participacao_faturamento_%': 0.62, 'ticket_medio': 203.26}, 'Kit banquetas': {'quantidade': 42, 'faturamento': 15785.44, 'participacao_faturamento_%': 1.14, 'ticket_medio': 375.84}, 'TV Led UHD 4K': {'quantidade': 40, 'faturamento': 120393.25, 'participacao_faturamento_%': 8.7, 'ticket_medio': 3009.83}, 'Secadora de roupas': {'quantidade': 40, 'faturamento': 56349.3, 'participacao_faturamento_%': 4.07, 'ticket_medio': 1408.73}, 'Cadeira de escritório': {'quantidade': 40, 'faturamento': 19367.5, 'participacao_faturamento_%': 1.4, 'ticket_medio': 484.19}, 'Celular ABXY': {'quantidade': 39, 'faturamento': 53561.83, 'participacao_faturamento_%': 3.87, 'ticket_medio': 1373.38}, 'Xadrez de madeira': {'quantidade': 39, 'faturamento': 1434.09, 'participacao_faturamento_%': 0.1, 'ticket_medio': 36.77}, 'Smartwatch': {'quantidade': 39, 'faturamento': 9032.52, 'participacao_faturamento_%': 0.65, 'ticket_medio': 231.6}, 'Lavadora de roupas': {'quantidade': 38, 'faturamento': 69951.68, 'participacao_faturamento_%': 5.05, 'ticket_medio': 1840.83}, 'Geladeira': {'quantidade': 38, 'faturamento': 100362.59, 'participacao_faturamento_%': 7.25, 'ticket_medio': 2641.12}, 'Ciência de dados com python': {'quantidade': 38, 'faturamento': 2811.87, 'participacao_faturamento_%': 0.2, 'ticket_medio': 74.0}, 'Violão': {'quantidade': 37, 'faturamento': 15009.67, 'participacao_faturamento_%': 1.08, 'ticket_medio': 405.67}, 'Guarda roupas': {'quantidade': 34, 'faturamento': 21895.36, 'participacao_faturamento_%': 1.58, 'ticket_medio': 643.98}, 'Guitarra': {'quantidade': 33, 'faturamento': 34430.67, 'participacao_faturamento_%': 2.49, 'ticket_medio': 1043.35}}\n"
          ]
        }
      ]
    },
    {
      "cell_type": "code",
      "source": [
        "print('Ranking dos três produtos com maior venda por loja')\n",
        "\n",
        "# Encontra os produtos top 3 em vendas - loja 1\n",
        "print('\\nLOJA 1')\n",
        "top_3_loja1 = sorted(vendas_produto1.items(), key=lambda x: x[1]['quantidade'], reverse=True)[:3]\n",
        "for prod, qtd in top_3_loja1:\n",
        "    print(f\"{prod}: {qtd} unidades\")\n",
        "\n",
        "# Encontra os produtos top 3 em vendas - loja 2\n",
        "print('\\nLOJA 2')\n",
        "top_3_loja2 = sorted(vendas_produto2.items(), key=lambda x: x[1]['quantidade'], reverse=True)[:3]\n",
        "for prod, qtd in top_3_loja2:\n",
        "    print(f\"{prod}: {qtd} unidades\")\n",
        "\n",
        "# Encontra os produtos top 3 em vendas - loja 3\n",
        "print('\\nLOJA 3')\n",
        "top_3_loja3 = sorted(vendas_produto3.items(), key=lambda x: x[1]['quantidade'], reverse=True)[:3]\n",
        "for prod, qtd in top_3_loja3:\n",
        "    print(f\"{prod}: {qtd} unidades\")\n",
        "\n",
        "# Encontra os produtos top 3 em vendas - loja 4\n",
        "print('\\nLOJA 4')\n",
        "top_3_loja4 = sorted(vendas_produto4.items(), key=lambda x: x[1]['quantidade'], reverse=True)[:3]\n",
        "for prod, qtd in top_3_loja4:\n",
        "    print(f\"{prod}: {qtd} unidades\")"
      ],
      "metadata": {
        "id": "0Sw3sd4IZIGW",
        "colab": {
          "base_uri": "https://localhost:8080/"
        },
        "outputId": "ee3a201a-ad56-4ae6-d835-a966dbfbd80f"
      },
      "execution_count": 43,
      "outputs": [
        {
          "output_type": "stream",
          "name": "stdout",
          "text": [
            "Ranking dos três produtos com maior venda por loja\n",
            "\n",
            "LOJA 1\n",
            "Micro-ondas: {'quantidade': 60, 'faturamento': 46348.89, 'participacao_faturamento_%': 3.02, 'ticket_medio': 772.48} unidades\n",
            "TV Led UHD 4K: {'quantidade': 60, 'faturamento': 189534.28, 'participacao_faturamento_%': 12.35, 'ticket_medio': 3158.9} unidades\n",
            "Guarda roupas: {'quantidade': 60, 'faturamento': 39282.78, 'participacao_faturamento_%': 2.56, 'ticket_medio': 654.71} unidades\n",
            "\n",
            "LOJA 2\n",
            "Iniciando em programação: {'quantidade': 65, 'faturamento': 4169.96, 'participacao_faturamento_%': 0.28, 'ticket_medio': 64.15} unidades\n",
            "Micro-ondas: {'quantidade': 62, 'faturamento': 48256.37, 'participacao_faturamento_%': 3.24, 'ticket_medio': 778.33} unidades\n",
            "Bateria: {'quantidade': 61, 'faturamento': 61566.87, 'participacao_faturamento_%': 4.14, 'ticket_medio': 1009.29} unidades\n",
            "\n",
            "LOJA 3\n",
            "Kit banquetas: {'quantidade': 57, 'faturamento': 22265.96, 'participacao_faturamento_%': 1.52, 'ticket_medio': 390.63} unidades\n",
            "Mesa de jantar: {'quantidade': 56, 'faturamento': 19101.4, 'participacao_faturamento_%': 1.3, 'ticket_medio': 341.1} unidades\n",
            "Cama king: {'quantidade': 56, 'faturamento': 51779.9, 'participacao_faturamento_%': 3.54, 'ticket_medio': 924.64} unidades\n",
            "\n",
            "LOJA 4\n",
            "Cama box: {'quantidade': 62, 'faturamento': 43928.57, 'participacao_faturamento_%': 3.17, 'ticket_medio': 708.53} unidades\n",
            "Faqueiro: {'quantidade': 59, 'faturamento': 3532.16, 'participacao_faturamento_%': 0.26, 'ticket_medio': 59.87} unidades\n",
            "Dashboards com Power BI: {'quantidade': 56, 'faturamento': 2654.28, 'participacao_faturamento_%': 0.19, 'ticket_medio': 47.4} unidades\n"
          ]
        }
      ]
    },
    {
      "cell_type": "code",
      "source": [
        "print('Ranking dos três produtos com menor venda por loja')\n",
        "\n",
        "# Encontra os produtos top 3 em vendas - loja 1\n",
        "print('\\nLOJA 1')\n",
        "top_3_loja1 = sorted(vendas_produto1.items(), key=lambda x: x[1]['quantidade'], reverse=False)[:3]\n",
        "for prod, qtd in top_3_loja1:\n",
        "    print(f\"{prod}: {qtd} unidades\")\n",
        "\n",
        "# Encontra os produtos top 3 em vendas - loja 2\n",
        "print('\\nLOJA 2')\n",
        "top_3_loja2 = sorted(vendas_produto2.items(), key=lambda x: x[1]['quantidade'], reverse=False)[:3]\n",
        "for prod, qtd in top_3_loja2:\n",
        "    print(f\"{prod}: {qtd} unidades\")\n",
        "\n",
        "# Encontra os produtos top 3 em vendas - loja 3\n",
        "print('\\nLOJA 3')\n",
        "top_3_loja3 = sorted(vendas_produto3.items(), key=lambda x: x[1]['quantidade'], reverse=False)[:3]\n",
        "for prod, qtd in top_3_loja3:\n",
        "    print(f\"{prod}: {qtd} unidades\")\n",
        "\n",
        "# Encontra os produtos top 3 em vendas - loja 4\n",
        "print('\\nLOJA 4')\n",
        "top_3_loja4 = sorted(vendas_produto4.items(), key=lambda x: x[1]['quantidade'], reverse=False)[:3]\n",
        "for prod, qtd in top_3_loja4:\n",
        "    print(f\"{prod}: {qtd} unidades\")"
      ],
      "metadata": {
        "colab": {
          "base_uri": "https://localhost:8080/"
        },
        "id": "W_067zZJHfYr",
        "outputId": "12b7382a-12f7-48e1-8285-70eabe3c6bc9"
      },
      "execution_count": 44,
      "outputs": [
        {
          "output_type": "stream",
          "name": "stdout",
          "text": [
            "Ranking dos três produtos com menor venda por loja\n",
            "\n",
            "LOJA 1\n",
            "Headset: {'quantidade': 33, 'faturamento': 6307.71, 'participacao_faturamento_%': 0.41, 'ticket_medio': 191.14} unidades\n",
            "Celular ABXY: {'quantidade': 33, 'faturamento': 43534.47, 'participacao_faturamento_%': 2.84, 'ticket_medio': 1319.23} unidades\n",
            "Panela de pressão: {'quantidade': 35, 'faturamento': 3505.71, 'participacao_faturamento_%': 0.23, 'ticket_medio': 100.16} unidades\n",
            "\n",
            "LOJA 2\n",
            "Jogo de tabuleiro: {'quantidade': 32, 'faturamento': 7749.58, 'participacao_faturamento_%': 0.52, 'ticket_medio': 242.17} unidades\n",
            "Mesa de jantar: {'quantidade': 34, 'faturamento': 11516.31, 'participacao_faturamento_%': 0.77, 'ticket_medio': 338.71} unidades\n",
            "Impressora: {'quantidade': 34, 'faturamento': 13846.69, 'participacao_faturamento_%': 0.93, 'ticket_medio': 407.26} unidades\n",
            "\n",
            "LOJA 3\n",
            "Blocos de montar: {'quantidade': 35, 'faturamento': 1649.81, 'participacao_faturamento_%': 0.11, 'ticket_medio': 47.14} unidades\n",
            "Jogo de copos: {'quantidade': 36, 'faturamento': 1614.2, 'participacao_faturamento_%': 0.11, 'ticket_medio': 44.84} unidades\n",
            "Mochila: {'quantidade': 36, 'faturamento': 4729.54, 'participacao_faturamento_%': 0.32, 'ticket_medio': 131.38} unidades\n",
            "\n",
            "LOJA 4\n",
            "Guitarra: {'quantidade': 33, 'faturamento': 34430.67, 'participacao_faturamento_%': 2.49, 'ticket_medio': 1043.35} unidades\n",
            "Guarda roupas: {'quantidade': 34, 'faturamento': 21895.36, 'participacao_faturamento_%': 1.58, 'ticket_medio': 643.98} unidades\n",
            "Violão: {'quantidade': 37, 'faturamento': 15009.67, 'participacao_faturamento_%': 1.08, 'ticket_medio': 405.67} unidades\n"
          ]
        }
      ]
    },
    {
      "cell_type": "markdown",
      "source": [
        "## 📊 Análise de performance de produtos mais e menos"
      ],
      "metadata": {
        "id": "IguaX-uSx1F3"
      }
    },
    {
      "cell_type": "markdown",
      "source": [
        "Analisando dados de faturamento de cada loja, comparando com os dados de produtos mais e menos vendiddos:\n",
        "\n",
        "Loja 1\n",
        "\n",
        "Top Vendas (alto impacto no faturamento):\n",
        "\n",
        "TV LED UHD 4K: R$ 189.534,28 (12,35% do faturamento)\n",
        "\n",
        "Micro-ondas: R$ 46.348,89\n",
        "\n",
        "Guarda-roupas: R$ 39.282,78\n",
        "\n",
        "Menor Desempenho (baixo volume e faturamento):\n",
        "\n",
        "Panela de pressão: R$ 3.505,71 (0,23%)\n",
        "\n",
        "Headset: R$ 6.307,71\n",
        "\n",
        "Celular ABXY: Apesar de ticket alto, apenas 2,84% do faturamento\n",
        "\n",
        "📌 Análise: A loja tem forte performance com produtos de maior valor agregado, especialmente TVs. Produtos de ticket médio-baixo têm baixa representatividade. Mix equilibrado.\n",
        "\n",
        "Loja 2\n",
        "\n",
        "Top Vendas:\n",
        "\n",
        "Bateria: R$ 61.566,87 (4,14%)\n",
        "\n",
        "Micro-ondas: R$ 48.256,37\n",
        "\n",
        "Curso \"Iniciando em programação\": Alta quantidade (65), mas baixo faturamento (0,28%)\n",
        "\n",
        "Menor Desempenho:\n",
        "\n",
        "Impressora / Mesa de jantar / Jogo de tabuleiro: Faturamento baixo e baixa penetração\n",
        "\n",
        "📌 Análise: Apesar do bom faturamento, muitos produtos têm pouca representatividade individual. A performance é sustentada por alguns itens de médio valor e volume. O curso vendido é barato e impacta pouco na receita.\n",
        "\n",
        "Loja 3\n",
        "\n",
        "Top Vendas:\n",
        "\n",
        "Cama king: R$ 51.779,90 (3,54%)\n",
        "\n",
        "Kit banquetas / Mesa de jantar: Boa saída, mas baixo ticket\n",
        "\n",
        "Menor Desempenho:\n",
        "\n",
        "Blocos de montar / Jogo de copos / Mochila: Quantidade razoável, mas faturamento quase irrelevante (menor que 0,5%)\n",
        "\n",
        "📌 Análise: Forte em móveis de médio-alto valor. Produtos pequenos são frequentes, mas têm impacto quase nulo no faturamento. O mix é mais focado em casa e móveis.\n",
        "\n",
        "Loja 4\n",
        "\n",
        "Top Vendas:\n",
        "\n",
        "Cama box: R$ 43.928,57 (3,17%)\n",
        "\n",
        "Faqueiro / Dashboards com Power BI: Alta saída, mas ticket muito baixo\n",
        "\n",
        "Menor Desempenho:\n",
        "\n",
        "Guitarra / Violão / Guarda-roupas: Boa quantidade, mas participação abaixo do esperado\n",
        "\n",
        "📌 Análise: Produtos com ticket alto vendem pouco, e os que vendem muito têm ticket baixo. Mix com foco disperso. Baixo aproveitamento do potencial de venda."
      ],
      "metadata": {
        "id": "I63CuNsc5MN3"
      }
    },
    {
      "cell_type": "markdown",
      "source": [
        "## 🏁 Cálculo dos Scores = Ranking Final"
      ],
      "metadata": {
        "id": "haNtrgiQ5C8H"
      }
    },
    {
      "cell_type": "markdown",
      "source": [
        "🏆 Ranking de Performance por Loja:\n",
        "\n",
        "🥇 Loja 1 – Melhor equilíbrio entre volume e faturamento alto, forte representatividade de produtos-chave\n",
        "\n",
        "🥈 Loja 3 – Consistência com itens que têm ticket relevante e boa frequência\n",
        "\n",
        "🥉 Loja 2 – Produto com maior volume tem baixíssimo impacto no faturamento\n",
        "\n",
        "Loja 4 – Foco mal direcionado: alto volume em produtos com baixo valor unitário\n"
      ],
      "metadata": {
        "id": "RQF5ihqz4uBc"
      }
    },
    {
      "cell_type": "markdown",
      "source": [
        "# 5. Frete Médio por Loja\n"
      ],
      "metadata": {
        "id": "Fl0cGi3bZKqU"
      }
    },
    {
      "cell_type": "markdown",
      "source": [
        "## 🧮 Cálculo"
      ],
      "metadata": {
        "id": "KL0bSsmyx34E"
      }
    },
    {
      "cell_type": "markdown",
      "source": [
        "Neste passo, vamos calcular o custo médio de frete para cada loja. O objetivo é entender quanto, em média, está sendo gasto com frete para cada uma das lojas."
      ],
      "metadata": {
        "id": "EVnGUwn_igH1"
      }
    },
    {
      "cell_type": "code",
      "source": [
        "# função para calcular custo médio de frete\n",
        "def calcula_media_frete(loja_nr):\n",
        "    return loja_nr['Frete'].mean()"
      ],
      "metadata": {
        "id": "S2JeaCykZNy9"
      },
      "execution_count": 45,
      "outputs": []
    },
    {
      "cell_type": "code",
      "source": [
        "# Apresenta custo médio de frete - loja 1\n",
        "media_frete_loja1 = round(calcula_media_frete(loja1),3)\n",
        "print(f'Custo médio do frete da loja 1: {media_frete_loja1}\\n')\n",
        "\n",
        "# Apresenta custo médio de frete - loja 2\n",
        "media_frete_loja2 = round(calcula_media_frete(loja2),3)\n",
        "print(f'Custo médio do frete da loja 2: {media_frete_loja2}\\n')\n",
        "\n",
        "# Apresenta custo médio de frete - loja 3\n",
        "media_frete_loja3 = round(calcula_media_frete(loja3),3)\n",
        "print(f'Custo médio do frete da loja 3: {media_frete_loja3}\\n')\n",
        "\n",
        "# Apresenta custo médio de frete - loja 4\n",
        "media_frete_loja4 = round(calcula_media_frete(loja4),3)\n",
        "print(f'Custo médio do frete da loja 4: {media_frete_loja4}\\n')"
      ],
      "metadata": {
        "id": "0tSdCie9ZQlt",
        "colab": {
          "base_uri": "https://localhost:8080/"
        },
        "outputId": "b5a2ae65-a85e-4d25-dab9-243e1c1c554a"
      },
      "execution_count": 47,
      "outputs": [
        {
          "output_type": "stream",
          "name": "stdout",
          "text": [
            "Custo médio do frete da loja 1: 34.692\n",
            "\n",
            "Custo médio do frete da loja 2: 33.622\n",
            "\n",
            "Custo médio do frete da loja 3: 33.074\n",
            "\n",
            "Custo médio do frete da loja 4: 31.279\n",
            "\n"
          ]
        }
      ]
    },
    {
      "cell_type": "markdown",
      "source": [
        "## 📊 Análise de performance de custo com frete"
      ],
      "metadata": {
        "id": "xPA-N8_A9FSI"
      }
    },
    {
      "cell_type": "markdown",
      "source": [
        "🔎 Insights Estratégicos:\n",
        "\n",
        "Loja 4, mesmo com menor ticket médio nos produtos mais vendidos, compensa com a melhor eficiência logística.\n",
        "\n",
        "Loja 1, apesar de ser líder em faturamento, tem a menor eficiência de frete. Possível oportunidade de negociação com transportadoras ou otimização na expedição.\n",
        "\n",
        "As demais lojas (2 e 3) estão próximas no desempenho logístico, com espaço para ganho de margem via logística mais enxuta."
      ],
      "metadata": {
        "id": "XUZOjPVN9Jes"
      }
    },
    {
      "cell_type": "markdown",
      "source": [
        "## 🏁 Cálculo dos Scores = Ranking Final"
      ],
      "metadata": {
        "id": "FKDFD6yR9LOf"
      }
    },
    {
      "cell_type": "markdown",
      "source": [
        "🏆 Ranking de Performance por Loja:\n",
        "\n",
        "🥇 Loja 4 – Melhor custo médio, mantendo boa margem. Mesmo com menor faturamento, é a mais eficiente logisticamente.\n",
        "\n",
        "🥈 Loja 3 – Boa performance logística com ticket médio razoável. Custo ajustado.\n",
        "\n",
        "🥉 Loja 2 – Frete equilibrado, mas poderia ter mais eficiência dada a diversidade de produtos vendidos.\n",
        "\n",
        "Loja 1 – Maior custo médio, mesmo sendo a que mais fatura. Precisa revisar estratégias de logística para reduzir impacto."
      ],
      "metadata": {
        "id": "86owiHq19O1U"
      }
    },
    {
      "cell_type": "markdown",
      "source": [
        "# 6. Gráficos"
      ],
      "metadata": {
        "id": "0Sqv1_jz_jS3"
      }
    },
    {
      "cell_type": "markdown",
      "source": [
        "## 1. Gráfico de Barras - Faturamento Bruto e Líquido por Loja"
      ],
      "metadata": {
        "id": "t-70QLcYDQkK"
      }
    },
    {
      "cell_type": "code",
      "source": [
        "import matplotlib.pyplot as plt\n",
        "import numpy as np\n",
        "\n",
        "# Dados de faturamento\n",
        "lojas = ['Loja 1', 'Loja 2', 'Loja 3', 'Loja 4']\n",
        "faturamento_bruto = [Faturamento_Bruto_loja1, Faturamento_Bruto_loja2, Faturamento_Bruto_loja3, Faturamento_Bruto_loja4]\n",
        "faturamento_liquido = [Faturamento_Liq_loja1, Faturamento_Liq_loja2, Faturamento_Liq_loja3, Faturamento_Liq_loja4]\n",
        "\n",
        "# Posição das barras\n",
        "x = np.arange(len(lojas))\n",
        "largura = 0.35  # largura das barras\n",
        "\n",
        "# Criar gráfico\n",
        "fig, ax = plt.subplots(figsize=(10, 6))\n",
        "barras1 = ax.bar(x - largura/2, faturamento_bruto, largura, label='Bruto', color='skyblue')\n",
        "barras2 = ax.bar(x + largura/2, faturamento_liquido, largura, label='Líquido', color='mediumseagreen')\n",
        "\n",
        "# Adicionar rótulos e legendas\n",
        "ax.set_ylabel('Faturamento (R$)')\n",
        "ax.set_title('Faturamento Bruto e Líquido por Loja')\n",
        "ax.set_xticks(x)\n",
        "ax.set_xticklabels(lojas)\n",
        "ax.legend()\n",
        "\n",
        "# Exibir valores acima das barras com formatação em R$\n",
        "def formatar_moeda(valor, _):\n",
        "    return f'R$ {valor:,.0f}'.replace(',', '.')\n",
        "\n",
        "ax.bar_label(barras1, labels=[formatar_moeda(v, None) for v in faturamento_bruto], padding=3)\n",
        "ax.bar_label(barras2, labels=[formatar_moeda(v, None) for v in faturamento_liquido], padding=3)\n",
        "\n",
        "\n",
        "# Melhorar layout\n",
        "plt.tight_layout()\n",
        "plt.grid(axis='y', linestyle='--', alpha=0.7)\n",
        "plt.show()\n"
      ],
      "metadata": {
        "colab": {
          "base_uri": "https://localhost:8080/",
          "height": 606
        },
        "id": "GTMTmqeWDPPW",
        "outputId": "227ae115-4a7b-4c46-8569-a25d29ea6ead"
      },
      "execution_count": 53,
      "outputs": [
        {
          "output_type": "display_data",
          "data": {
            "text/plain": [
              "<Figure size 1000x600 with 1 Axes>"
            ],
            "image/png": "[encoded data removed]"
          },
          "metadata": {}
        }
      ]
    },
    {
      "cell_type": "markdown",
      "source": [
        "## 2. Gráfico de Barras Empilhadas - Participação de Categorias no Faturamento por Loja"
      ],
      "metadata": {
        "id": "39EriBZEDc_l"
      }
    },
    {
      "cell_type": "code",
      "source": [
        "import matplotlib.pyplot as plt\n",
        "import pandas as pd\n",
        "\n",
        "# Simulando os dados retornados por monta_dados_completos()\n",
        "# (Substitua pelos seus próprios dados em produção)\n",
        "dados_loja_1 = dicionario_loja1\n",
        "dados_loja_2 = dicionario_loja2\n",
        "dados_loja_3 = dicionario_loja3\n",
        "dados_loja_4 = dicionario_loja4\n",
        "\n",
        "# Consolidar os dados em um DataFrame\n",
        "def extrair_participacao(dados):\n",
        "    return {categoria: info['participacao_faturamento_%'] for categoria, info in dados.items()}\n",
        "\n",
        "df = pd.DataFrame({\n",
        "    'Loja 1': extrair_participacao(dados_loja_1),\n",
        "    'Loja 2': extrair_participacao(dados_loja_2),\n",
        "    'Loja 3': extrair_participacao(dados_loja_3),\n",
        "    'Loja 4': extrair_participacao(dados_loja_4),\n",
        "}).fillna(0)  # Caso uma categoria não exista em alguma loja\n",
        "\n",
        "# Transpor o DataFrame para usar no gráfico\n",
        "df = df.T\n",
        "\n",
        "# Cores opcionais\n",
        "cores = plt.get_cmap('Set2').colors\n",
        "\n",
        "# Criar gráfico de barras empilhadas\n",
        "fig, ax = plt.subplots(figsize=(10, 6))\n",
        "bottom = [0] * len(df)\n",
        "\n",
        "for i, categoria in enumerate(df.columns):\n",
        "    valores = df[categoria]\n",
        "    ax.bar(df.index, valores, bottom=bottom, label=categoria, color=cores[i % len(cores)])\n",
        "    bottom = [sum(x) for x in zip(bottom, valores)]\n",
        "\n",
        "# Rótulos e título\n",
        "ax.set_ylabel('% de Participação no Faturamento')\n",
        "ax.set_title('Participação de Categorias no Faturamento por Loja')\n",
        "ax.legend(title='Categoria', bbox_to_anchor=(1.05, 1), loc='upper left')\n",
        "ax.set_ylim(0, 100)\n",
        "\n",
        "# Exibir porcentagens sobre cada segmento\n",
        "for i, categoria in enumerate(df.columns):\n",
        "    valores = df[categoria]\n",
        "    y_offset = df.iloc[:, :i].sum(axis=1)\n",
        "    for j, valor in enumerate(valores):\n",
        "        if valor > 5:  # Mostrar apenas se a fatia for relevante\n",
        "            ax.text(j, y_offset.iloc[j] + valor / 2, f'{valor:.1f}%', ha='center', va='center', fontsize=8)\n",
        "\n",
        "plt.tight_layout()\n",
        "plt.show()"
      ],
      "metadata": {
        "colab": {
          "base_uri": "https://localhost:8080/",
          "height": 607
        },
        "id": "Peg1047zDpb9",
        "outputId": "16dd9e81-e7ca-4786-bf0a-10e1261ed567"
      },
      "execution_count": 59,
      "outputs": [
        {
          "output_type": "display_data",
          "data": {
            "text/plain": [
              "<Figure size 1000x600 with 1 Axes>"
            ],
            "image/png": "[encoded data removed]"
          },
          "metadata": {}
        }
      ]
    },
    {
      "cell_type": "markdown",
      "source": [
        "## 3. Gráfico Radar (ou Radar Chart) - Ticket Médio por Categoria nas Lojas"
      ],
      "metadata": {
        "id": "zucBk2IaDqUX"
      }
    },
    {
      "cell_type": "code",
      "source": [
        "import matplotlib.pyplot as plt\n",
        "import numpy as np\n",
        "\n",
        "# Função já fornecida:\n",
        "# def monta_dados_completos(loja_nr): ...\n",
        "\n",
        "# Gerando os dicionários para cada loja\n",
        "dados_loja1 = monta_dados_completos(loja1)\n",
        "dados_loja2 = monta_dados_completos(loja2)\n",
        "dados_loja3 = monta_dados_completos(loja3)\n",
        "dados_loja4 = monta_dados_completos(loja4)\n",
        "\n",
        "# Pegando a lista completa de categorias (conjunto unificado de todas as lojas)\n",
        "categorias = sorted(set(\n",
        "    list(dados_loja1.keys()) +\n",
        "    list(dados_loja2.keys()) +\n",
        "    list(dados_loja3.keys()) +\n",
        "    list(dados_loja4.keys())\n",
        "))\n",
        "\n",
        "# Função para extrair ticket médio garantindo ordem e valores faltantes como 0\n",
        "def extrai_ticket_medio(dados_loja, categorias):\n",
        "    return [dados_loja.get(cat, {}).get('ticket_medio', 0) for cat in categorias]\n",
        "\n",
        "# Dados para cada loja\n",
        "ticket_medio_loja1 = extrai_ticket_medio(dados_loja1, categorias)\n",
        "ticket_medio_loja2 = extrai_ticket_medio(dados_loja2, categorias)\n",
        "ticket_medio_loja3 = extrai_ticket_medio(dados_loja3, categorias)\n",
        "ticket_medio_loja4 = extrai_ticket_medio(dados_loja4, categorias)\n",
        "\n",
        "# Organizar dados para o gráfico\n",
        "dados = [\n",
        "    ticket_medio_loja1,\n",
        "    ticket_medio_loja2,\n",
        "    ticket_medio_loja3,\n",
        "    ticket_medio_loja4\n",
        "]\n",
        "lojas = ['Loja 1', 'Loja 2', 'Loja 3', 'Loja 4']\n",
        "cores = ['#1f77b4', '#2ca02c', '#d62728', '#ff7f0e']\n",
        "\n",
        "# Radar chart setup\n",
        "num_categorias = len(categorias)\n",
        "angles = np.linspace(0, 2 * np.pi, num_categorias, endpoint=False).tolist()\n",
        "angles += angles[:1]  # Fecha o gráfico\n",
        "\n",
        "# Criar figura\n",
        "fig, ax = plt.subplots(figsize=(8, 8), subplot_kw=dict(polar=True))\n",
        "\n",
        "# Plotar os dados de cada loja\n",
        "for i, loja in enumerate(lojas):\n",
        "    valores = dados[i] + [dados[i][0]]  # Fechar a linha\n",
        "    ax.plot(angles, valores, label=loja, color=cores[i], linewidth=2)\n",
        "    ax.fill(angles, valores, alpha=0.1, color=cores[i])\n",
        "\n",
        "# Configurações do gráfico\n",
        "ax.set_xticks(angles[:-1])\n",
        "ax.set_xticklabels(categorias, fontsize=10)\n",
        "ax.set_title('Ticket Médio por Categoria nas Lojas', size=14, pad=20)\n",
        "ax.legend(loc='upper right', bbox_to_anchor=(1.3, 1.1))\n",
        "ax.grid(True)\n",
        "\n",
        "# Exibir\n",
        "plt.tight_layout()\n",
        "plt.show()"
      ],
      "metadata": {
        "colab": {
          "base_uri": "https://localhost:8080/",
          "height": 605
        },
        "id": "2VAn_XDxD_RR",
        "outputId": "56763cfb-df1d-4383-e6e8-01211b15706e"
      },
      "execution_count": 56,
      "outputs": [
        {
          "output_type": "display_data",
          "data": {
            "text/plain": [
              "<Figure size 800x800 with 1 Axes>"
            ],
            "image/png": "[encoded data removed]"
          },
          "metadata": {}
        }
      ]
    },
    {
      "cell_type": "markdown",
      "source": [
        "# 7. Relatório Final"
      ],
      "metadata": {
        "id": "GqPCvbDnAOrD"
      }
    },
    {
      "cell_type": "markdown",
      "source": [
        "Com base em todas as análises fornecidas, a Loja 4 apresenta a pior performance global e é a candidata mais indicada para desativação ou reestruturação. Aqui está um resumo objetivo com os principais pontos que justificam essa conclusão:\n",
        "\n",
        "\n",
        "\n",
        "---\n",
        "\n",
        "\n",
        "\n",
        "📉 Resumo da Performance da Loja 4\n",
        "\n",
        "* Critério: Faturamento (Score: 0,825) --- Resultado: Pior entre todas -\n",
        "\n",
        "Menor faturamento bruto e líquido do grupo.\n",
        "\n",
        "* Critério: Vendas por categoria (Score: 104) --- Resultado: 2º lugar  \n",
        "\n",
        "Boa diversidade, mas sem liderança em nenhum segmento.\n",
        "\n",
        "* Critério: Avaliação média (3,996) --- Resultado: 3º lugar  \n",
        "\n",
        "Abaixo da média geral; não compensa o desempenho em logística.\n",
        "\n",
        "* Critério: Produtos mais e menos vendidos --- Resultado: 4º lugar  \n",
        "\n",
        "Foco excessivo em produtos de baixo valor unitário (ex: faqueiro, dashboards), reduzindo impacto no faturamento.\n",
        "\n",
        "* Critério: Frete médio (R$ 31,279) --- Resultado: 🥇 Melhor custo médio\n",
        "\n",
        "Único ponto forte: eficiência logística.\n",
        "\n",
        "---\n",
        "\n",
        "🚫 Pontos Críticos da Loja 4\n",
        "\n",
        "* Baixo Faturamento Geral: É a loja com menor receita bruta e líquida – mesmo com margem percentual próxima das outras, o volume absoluto é o menor.\n",
        "\n",
        "* Produtos com Baixa Rentabilidade: Os produtos mais vendidos têm baixo ticket médio (ex: dashboards por 47 reais, faqueiro por 59 reais), prejudicando o faturamento, mesmo com boa quantidade.\n",
        "\n",
        "* Menor Relevância Estratégica: Não lidera em nenhuma das análises e apresenta foco desalinhado entre volume e valor, o que indica problemas na curadoria do mix de produtos.\n",
        "\n",
        "* Avaliações e Satisfação: A segunda pior nota de avaliação entre as quatro lojas, o que reduz o potencial de fidelização de clientes.\n",
        "\n",
        "---\n",
        "\n",
        "✅ Pontos Positivos (não suficientes para compensar)\n",
        "Logística eficiente: Melhor custo médio de frete, o que ajuda a manter margens — mas isso não compensa o baixo faturamento nem o mix mal direcionado.\n",
        "\n",
        "---\n",
        "\n",
        "📌 Conclusão\n",
        "\n",
        "A Loja 4 deve ser a escolhida para ser descontinuada ou profundamente reestruturada. Apesar da boa eficiência logística, seu desempenho comercial geral é o mais fraco, com baixo faturamento, foco de vendas equivocado e menor relevância estratégica no portfólio do grupo.\n",
        "\n",
        "Caso a intenção seja reestruturar e não eliminar, o foco deveria ser:\n",
        "\n",
        "Reposicionar o mix de produtos, investindo em itens com maior valor percebido e ticket médio.\n",
        "\n",
        "Rever estratégia de marketing e campanhas, para fortalecer presença nas categorias com maior rentabilidade.\n",
        "\n",
        "Aproveitar a eficiência logística como diferencial, mas atrelando isso a melhores margens e maior volume em produtos-chave.\n"
      ],
      "metadata": {
        "id": "gkHx3NUHRuqT"
      }
    }
  ]
}